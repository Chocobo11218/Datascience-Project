{
 "cells": [
  {
   "cell_type": "markdown",
   "metadata": {},
   "source": [
    "# Data preparation"
   ]
  },
  {
   "cell_type": "code",
   "execution_count": null,
   "metadata": {},
   "outputs": [
    {
     "ename": "FileNotFoundError",
     "evalue": "[Errno 2] No such file or directory: '2018'",
     "output_type": "error",
     "traceback": [
      "\u001b[0;31m---------------------------------------------------------------------------\u001b[0m",
      "\u001b[0;31mFileNotFoundError\u001b[0m                         Traceback (most recent call last)",
      "Cell \u001b[0;32mIn[1], line 14\u001b[0m\n\u001b[1;32m     11\u001b[0m \u001b[38;5;66;03m# Iterate through each directory\u001b[39;00m\n\u001b[1;32m     12\u001b[0m \u001b[38;5;28;01mfor\u001b[39;00m directory \u001b[38;5;129;01min\u001b[39;00m directories:\n\u001b[1;32m     13\u001b[0m     \u001b[38;5;66;03m# Iterate through each file in the current directory\u001b[39;00m\n\u001b[0;32m---> 14\u001b[0m     \u001b[38;5;28;01mfor\u001b[39;00m filename \u001b[38;5;129;01min\u001b[39;00m \u001b[43mos\u001b[49m\u001b[38;5;241;43m.\u001b[39;49m\u001b[43mlistdir\u001b[49m\u001b[43m(\u001b[49m\u001b[43mdirectory\u001b[49m\u001b[43m)\u001b[49m:\n\u001b[1;32m     15\u001b[0m         \u001b[38;5;28;01mif\u001b[39;00m filename\u001b[38;5;241m.\u001b[39mendswith(\u001b[38;5;124m'\u001b[39m\u001b[38;5;124m.json\u001b[39m\u001b[38;5;124m'\u001b[39m):  \u001b[38;5;66;03m# Ensure it's a JSON file\u001b[39;00m\n\u001b[1;32m     16\u001b[0m             filepath \u001b[38;5;241m=\u001b[39m os\u001b[38;5;241m.\u001b[39mpath\u001b[38;5;241m.\u001b[39mjoin(directory, filename)\n",
      "\u001b[0;31mFileNotFoundError\u001b[0m: [Errno 2] No such file or directory: '2018'"
     ]
    }
   ],
   "source": [
    "import os\n",
    "import json\n",
    "import pandas as pd\n",
    "\n",
    "directories = ['2018','2019','2020','2021','2022','2023']\n",
    "\n",
    "extracted_data = []\n",
    "\n",
    "for directory in directories:\n",
    "\n",
    "    for filename in os.listdir(directory):\n",
    "        if filename.endswith('.json'):  \n",
    "            filepath = os.path.join(directory, filename)\n",
    "            \n",
    "\n",
    "            with open(filepath, 'r', encoding=\"utf-8\") as file:\n",
    "                data = json.load(file)\n",
    "                \n",
    "          \n",
    "                response = data.get('abstracts-retrieval-response', {})\n",
    "                \n",
    "     \n",
    "                title = response.get('coredata', {}).get('dc:title', None)\n",
    "                publicationName = response.get('coredata', {}).get('prism:publicationName', None)\n",
    "                abstract = response.get('item', {}).get('bibrecord', {}).get('head', {}).get('abstracts', None)\n",
    "                \n",
    "                subject_area_list = response.get('subject-areas', {}).get('subject-area', [])\n",
    "                subjectArea = [item.get('@abbrev', None) for item in subject_area_list if '@abbrev' in item]\n",
    "\n",
    "\n",
    "      \n",
    "                date = response.get('item', {}).get(\"ait:process-info\", {}).get(\"ait:date-sort\",{})\n",
    "                day = date.get(\"@day\")\n",
    "                year = date.get(\"@year\")\n",
    "                month = date.get('@month')\n",
    "                format_date = f\"{day}/{month}/{year}\"\n",
    "\n",
    "     \n",
    "                auth_keywords = response.get('authkeywords', {})\n",
    "                if isinstance(auth_keywords, dict):  \n",
    "                    keywords_list = auth_keywords.get('author-keyword', [])\n",
    "                    if isinstance(keywords_list, list):  \n",
    "                        combined_keywords = \",\".join(\n",
    "                        [kw.get('$', '') for kw in keywords_list if isinstance(kw, dict)]\n",
    "                        )\n",
    "                else:\n",
    "                    combined_keywords = None  \n",
    "\n",
    "                extracted_data.append({\n",
    "                    'title': title,\n",
    "                    'publicationName': publicationName,\n",
    "                    'abstract' : abstract,\n",
    "                    'keywords': combined_keywords,\n",
    "                    'subjectArea': subjectArea,\n",
    "                    'publication_date': format_date\n",
    "                })\n",
    "\n",
    "\n",
    "df = pd.DataFrame(extracted_data)\n",
    "def change(x):\n",
    "    x = set(x)\n",
    "    result = \"\"\n",
    "    for area in x:\n",
    "        result += area + \",\"\n",
    "    \n",
    "    return result[:-1]\n",
    "df[\"subjectArea\"] = df[\"subjectArea\"].apply(change)"
   ]
  },
  {
   "cell_type": "code",
   "execution_count": 2,
   "metadata": {},
   "outputs": [],
   "source": [
    "import pandas as pd\n",
    "df = pd.read_csv('data.csv')"
   ]
  },
  {
   "cell_type": "code",
   "execution_count": 3,
   "metadata": {},
   "outputs": [
    {
     "data": {
      "text/plain": [
       "(20216, 6)"
      ]
     },
     "execution_count": 3,
     "metadata": {},
     "output_type": "execute_result"
    }
   ],
   "source": [
    "df.shape"
   ]
  },
  {
   "cell_type": "code",
   "execution_count": 5,
   "metadata": {},
   "outputs": [
    {
     "data": {
      "text/html": [
       "<div>\n",
       "<style scoped>\n",
       "    .dataframe tbody tr th:only-of-type {\n",
       "        vertical-align: middle;\n",
       "    }\n",
       "\n",
       "    .dataframe tbody tr th {\n",
       "        vertical-align: top;\n",
       "    }\n",
       "\n",
       "    .dataframe thead th {\n",
       "        text-align: right;\n",
       "    }\n",
       "</style>\n",
       "<table border=\"1\" class=\"dataframe\">\n",
       "  <thead>\n",
       "    <tr style=\"text-align: right;\">\n",
       "      <th></th>\n",
       "      <th>title</th>\n",
       "      <th>publicationName</th>\n",
       "      <th>abstract</th>\n",
       "      <th>keywords</th>\n",
       "      <th>subjectArea</th>\n",
       "      <th>publication_date</th>\n",
       "    </tr>\n",
       "  </thead>\n",
       "  <tbody>\n",
       "    <tr>\n",
       "      <th>0</th>\n",
       "      <td>Effects of iron content on the microstructure ...</td>\n",
       "      <td>Materials Chemistry and Physics</td>\n",
       "      <td>© 2018The microstructure and corrosion behavio...</td>\n",
       "      <td>EIS,Microstructure,Pitting corrosion,Polarizat...</td>\n",
       "      <td>MATE,PHYS</td>\n",
       "      <td>01/10/2018</td>\n",
       "    </tr>\n",
       "    <tr>\n",
       "      <th>1</th>\n",
       "      <td>The critical factors of research and innovatio...</td>\n",
       "      <td>International Journal of Trade and Global Markets</td>\n",
       "      <td>Copyright © 2018 Inderscience Enterprises Ltd....</td>\n",
       "      <td>Critical factors,Innovation creation,Public un...</td>\n",
       "      <td>BUSI,ECON</td>\n",
       "      <td>01/01/2018</td>\n",
       "    </tr>\n",
       "  </tbody>\n",
       "</table>\n",
       "</div>"
      ],
      "text/plain": [
       "                                               title  \\\n",
       "0  Effects of iron content on the microstructure ...   \n",
       "1  The critical factors of research and innovatio...   \n",
       "\n",
       "                                     publicationName  \\\n",
       "0                    Materials Chemistry and Physics   \n",
       "1  International Journal of Trade and Global Markets   \n",
       "\n",
       "                                            abstract  \\\n",
       "0  © 2018The microstructure and corrosion behavio...   \n",
       "1  Copyright © 2018 Inderscience Enterprises Ltd....   \n",
       "\n",
       "                                            keywords subjectArea  \\\n",
       "0  EIS,Microstructure,Pitting corrosion,Polarizat...   MATE,PHYS   \n",
       "1  Critical factors,Innovation creation,Public un...   BUSI,ECON   \n",
       "\n",
       "  publication_date  \n",
       "0       01/10/2018  \n",
       "1       01/01/2018  "
      ]
     },
     "execution_count": 5,
     "metadata": {},
     "output_type": "execute_result"
    }
   ],
   "source": [
    "df.head(2)"
   ]
  },
  {
   "cell_type": "code",
   "execution_count": null,
   "metadata": {},
   "outputs": [],
   "source": [
    "df.dropna(subset=['title','publicationName'], inplace=True)"
   ]
  },
  {
   "cell_type": "code",
   "execution_count": 7,
   "metadata": {},
   "outputs": [
    {
     "data": {
      "text/plain": [
       "(20215, 6)"
      ]
     },
     "execution_count": 7,
     "metadata": {},
     "output_type": "execute_result"
    }
   ],
   "source": [
    "df.shape"
   ]
  },
  {
   "cell_type": "markdown",
   "metadata": {},
   "source": [
    "# Subject Area prediction"
   ]
  },
  {
   "cell_type": "code",
   "execution_count": null,
   "metadata": {},
   "outputs": [],
   "source": [
    "\n",
    "df['subjectArea'] = df['subjectArea'].apply(lambda x: x.split(','))"
   ]
  },
  {
   "cell_type": "code",
   "execution_count": 9,
   "metadata": {},
   "outputs": [
    {
     "data": {
      "text/html": [
       "<div>\n",
       "<style scoped>\n",
       "    .dataframe tbody tr th:only-of-type {\n",
       "        vertical-align: middle;\n",
       "    }\n",
       "\n",
       "    .dataframe tbody tr th {\n",
       "        vertical-align: top;\n",
       "    }\n",
       "\n",
       "    .dataframe thead th {\n",
       "        text-align: right;\n",
       "    }\n",
       "</style>\n",
       "<table border=\"1\" class=\"dataframe\">\n",
       "  <thead>\n",
       "    <tr style=\"text-align: right;\">\n",
       "      <th></th>\n",
       "      <th>title</th>\n",
       "      <th>publicationName</th>\n",
       "      <th>abstract</th>\n",
       "      <th>keywords</th>\n",
       "      <th>subjectArea</th>\n",
       "      <th>publication_date</th>\n",
       "    </tr>\n",
       "  </thead>\n",
       "  <tbody>\n",
       "    <tr>\n",
       "      <th>0</th>\n",
       "      <td>Effects of iron content on the microstructure ...</td>\n",
       "      <td>Materials Chemistry and Physics</td>\n",
       "      <td>© 2018The microstructure and corrosion behavio...</td>\n",
       "      <td>EIS,Microstructure,Pitting corrosion,Polarizat...</td>\n",
       "      <td>[MATE, PHYS]</td>\n",
       "      <td>01/10/2018</td>\n",
       "    </tr>\n",
       "    <tr>\n",
       "      <th>1</th>\n",
       "      <td>The critical factors of research and innovatio...</td>\n",
       "      <td>International Journal of Trade and Global Markets</td>\n",
       "      <td>Copyright © 2018 Inderscience Enterprises Ltd....</td>\n",
       "      <td>Critical factors,Innovation creation,Public un...</td>\n",
       "      <td>[BUSI, ECON]</td>\n",
       "      <td>01/01/2018</td>\n",
       "    </tr>\n",
       "  </tbody>\n",
       "</table>\n",
       "</div>"
      ],
      "text/plain": [
       "                                               title  \\\n",
       "0  Effects of iron content on the microstructure ...   \n",
       "1  The critical factors of research and innovatio...   \n",
       "\n",
       "                                     publicationName  \\\n",
       "0                    Materials Chemistry and Physics   \n",
       "1  International Journal of Trade and Global Markets   \n",
       "\n",
       "                                            abstract  \\\n",
       "0  © 2018The microstructure and corrosion behavio...   \n",
       "1  Copyright © 2018 Inderscience Enterprises Ltd....   \n",
       "\n",
       "                                            keywords   subjectArea  \\\n",
       "0  EIS,Microstructure,Pitting corrosion,Polarizat...  [MATE, PHYS]   \n",
       "1  Critical factors,Innovation creation,Public un...  [BUSI, ECON]   \n",
       "\n",
       "  publication_date  \n",
       "0       01/10/2018  \n",
       "1       01/01/2018  "
      ]
     },
     "execution_count": 9,
     "metadata": {},
     "output_type": "execute_result"
    }
   ],
   "source": [
    "df.head(2)"
   ]
  },
  {
   "cell_type": "code",
   "execution_count": null,
   "metadata": {},
   "outputs": [],
   "source": [
    "import numpy as np\n",
    "import pandas as pd\n",
    "from sklearn.model_selection import train_test_split\n",
    "from sklearn.feature_extraction.text import TfidfVectorizer\n",
    "from sklearn.preprocessing import MultiLabelBinarizer\n",
    "from sklearn.multiclass import OneVsRestClassifier\n",
    "from xgboost import XGBClassifier\n",
    "from sklearn.metrics import classification_report\n",
    "\n",
    "\n",
    "\n",
    "text_data = df['title'] + ' ' + df['publicationName']  \n",
    "vectorizer = TfidfVectorizer(max_features=10000, stop_words='english', ngram_range=(1, 2))\n",
    "X = vectorizer.fit_transform(text_data)\n",
    "\n",
    "\n",
    "mlb = MultiLabelBinarizer()\n",
    "y = mlb.fit_transform(df['subjectArea']) \n",
    "\n",
    "\n",
    "X_train, X_test, y_train, y_test = train_test_split(X, y, test_size=0.2, random_state=42)\n",
    "\n",
    "model = OneVsRestClassifier(XGBClassifier(eval_metric=\"logloss\"))\n",
    "model.fit(X_train, y_train)\n",
    "\n",
    "y_pred_prob = model.predict_proba(X_test)\n",
    "\n",
    "thresholds = np.arange(0.1, 0.9, 0.1)\n",
    "best_threshold = 0.5\n",
    "best_f1 = 0\n",
    "best_report = None\n",
    "\n",
    "for threshold in thresholds:\n",
    "    y_pred_adjusted = (y_pred_prob >= threshold).astype(int)\n",
    "    \n",
    "    report = classification_report(y_test, y_pred_adjusted, target_names=mlb.classes_, zero_division=0, output_dict=True)\n",
    "    f1_score = report[\"samples avg\"][\"f1-score\"]\n",
    "    \n",
    "    if f1_score > best_f1:\n",
    "        best_f1 = f1_score\n",
    "        best_threshold = threshold\n",
    "        best_report = report\n",
    "\n",
    "y_pred_best = (y_pred_prob >= best_threshold).astype(int)"
   ]
  },
  {
   "cell_type": "code",
   "execution_count": 11,
   "metadata": {},
   "outputs": [
    {
     "name": "stdout",
     "output_type": "stream",
     "text": [
      "              precision    recall  f1-score   support\n",
      "\n",
      "        AGRI       0.78      0.81      0.79       383\n",
      "        ARTS       0.70      0.70      0.70        93\n",
      "        BIOC       0.70      0.73      0.71       482\n",
      "        BUSI       0.61      0.64      0.62       125\n",
      "        CENG       0.78      0.80      0.79       313\n",
      "        CHEM       0.80      0.90      0.85       438\n",
      "        COMP       0.86      0.89      0.87       360\n",
      "        DECI       0.74      0.69      0.72        75\n",
      "        DENT       0.77      0.91      0.83        86\n",
      "        EART       0.77      0.76      0.76       142\n",
      "        ECON       0.62      0.63      0.62        79\n",
      "        ENER       0.83      0.86      0.84       220\n",
      "        ENGI       0.71      0.83      0.77       593\n",
      "        ENVI       0.83      0.82      0.82       344\n",
      "        HEAL       0.61      0.62      0.62        53\n",
      "        IMMU       0.77      0.77      0.77       229\n",
      "        MATE       0.86      0.87      0.86       403\n",
      "        MATH       0.74      0.74      0.74       148\n",
      "        MEDI       0.79      0.93      0.86      1166\n",
      "        MULT       0.96      0.92      0.94       196\n",
      "        NEUR       0.78      0.77      0.78       108\n",
      "        NURS       0.74      0.69      0.72        71\n",
      "        PHAR       0.79      0.77      0.78       207\n",
      "        PHYS       0.87      0.86      0.87       422\n",
      "        PSYC       0.69      0.45      0.55        40\n",
      "        SOCI       0.69      0.77      0.73       298\n",
      "        VETE       0.90      0.86      0.88       109\n",
      "\n",
      "   micro avg       0.78      0.83      0.80      7183\n",
      "   macro avg       0.77      0.78      0.77      7183\n",
      "weighted avg       0.78      0.83      0.80      7183\n",
      " samples avg       0.79      0.86      0.80      7183\n",
      "\n"
     ]
    },
    {
     "name": "stderr",
     "output_type": "stream",
     "text": [
      "/Library/Frameworks/Python.framework/Versions/3.12/lib/python3.12/site-packages/sklearn/metrics/_classification.py:1531: UndefinedMetricWarning: Precision is ill-defined and being set to 0.0 in samples with no predicted labels. Use `zero_division` parameter to control this behavior.\n",
      "  _warn_prf(average, modifier, f\"{metric.capitalize()} is\", len(result))\n"
     ]
    }
   ],
   "source": [
    "print(classification_report(y_test, y_pred_best, target_names=mlb.classes_))"
   ]
  },
  {
   "cell_type": "code",
   "execution_count": 12,
   "metadata": {},
   "outputs": [
    {
     "name": "stdout",
     "output_type": "stream",
     "text": [
      "Best Threshold: 0.2\n",
      "Best F1-Score: 0.797590351770416\n"
     ]
    }
   ],
   "source": [
    "print(f\"Best Threshold: {best_threshold}\")\n",
    "print(f\"Best F1-Score: {best_f1}\")"
   ]
  },
  {
   "cell_type": "code",
   "execution_count": 15,
   "metadata": {},
   "outputs": [
    {
     "name": "stdout",
     "output_type": "stream",
     "text": [
      "predicted labels\n"
     ]
    },
    {
     "data": {
      "text/plain": [
       "[('MEDI',),\n",
       " ('NURS', 'SOCI'),\n",
       " ('COMP', 'ENGI', 'MATE', 'MATH'),\n",
       " ('MEDI',),\n",
       " ('ENGI', 'MATE'),\n",
       " ('ARTS', 'COMP', 'DECI', 'ENGI', 'SOCI'),\n",
       " ('CHEM', 'MATE'),\n",
       " ('CHEM', 'MATH', 'PHYS'),\n",
       " ('MEDI', 'NEUR'),\n",
       " ('MEDI',)]"
      ]
     },
     "execution_count": 15,
     "metadata": {},
     "output_type": "execute_result"
    }
   ],
   "source": [
    "y_pred_labels = mlb.inverse_transform(y_pred_best)\n",
    "print('predicted labels')\n",
    "y_pred_labels[:10]"
   ]
  },
  {
   "cell_type": "code",
   "execution_count": 16,
   "metadata": {},
   "outputs": [
    {
     "name": "stdout",
     "output_type": "stream",
     "text": [
      "test labels\n"
     ]
    },
    {
     "data": {
      "text/plain": [
       "[('MEDI',),\n",
       " ('NURS',),\n",
       " ('COMP', 'ENGI', 'MATE', 'MATH'),\n",
       " ('MEDI',),\n",
       " ('ENGI', 'MATE'),\n",
       " ('ARTS', 'COMP', 'DECI', 'ENGI', 'MEDI', 'SOCI'),\n",
       " ('MATE', 'PHYS'),\n",
       " ('CHEM', 'COMP', 'MATH', 'PHYS'),\n",
       " ('MEDI', 'NEUR'),\n",
       " ('BIOC', 'MEDI')]"
      ]
     },
     "execution_count": 16,
     "metadata": {},
     "output_type": "execute_result"
    }
   ],
   "source": [
    "y_test_labels = mlb.inverse_transform(y_test)\n",
    "print('test labels')\n",
    "y_test_labels[:10]"
   ]
  },
  {
   "cell_type": "code",
   "execution_count": 67,
   "metadata": {},
   "outputs": [
    {
     "data": {
      "text/plain": [
       "(array([0, 0, 0, 0, 0, 0, 1, 0, 0, 0, 0, 0, 1, 0, 0, 0, 1, 1, 0, 0, 0, 0,\n",
       "        0, 0, 0, 0, 0]),\n",
       " ('COMP', 'ENGI', 'MATE', 'MATH'))"
      ]
     },
     "execution_count": 67,
     "metadata": {},
     "output_type": "execute_result"
    }
   ],
   "source": [
    "y_test[2], y_test_labels[2]"
   ]
  },
  {
   "cell_type": "code",
   "execution_count": null,
   "metadata": {},
   "outputs": [
    {
     "data": {
      "text/html": [
       "<div>\n",
       "<style scoped>\n",
       "    .dataframe tbody tr th:only-of-type {\n",
       "        vertical-align: middle;\n",
       "    }\n",
       "\n",
       "    .dataframe tbody tr th {\n",
       "        vertical-align: top;\n",
       "    }\n",
       "\n",
       "    .dataframe thead th {\n",
       "        text-align: right;\n",
       "    }\n",
       "</style>\n",
       "<table border=\"1\" class=\"dataframe\">\n",
       "  <thead>\n",
       "    <tr style=\"text-align: right;\">\n",
       "      <th></th>\n",
       "      <th>Predicted Labels</th>\n",
       "      <th>True Labels</th>\n",
       "    </tr>\n",
       "  </thead>\n",
       "  <tbody>\n",
       "    <tr>\n",
       "      <th>0</th>\n",
       "      <td>(MEDI,)</td>\n",
       "      <td>(MEDI,)</td>\n",
       "    </tr>\n",
       "    <tr>\n",
       "      <th>1</th>\n",
       "      <td>(NURS, SOCI)</td>\n",
       "      <td>(NURS,)</td>\n",
       "    </tr>\n",
       "    <tr>\n",
       "      <th>2</th>\n",
       "      <td>(COMP, ENGI, MATE, MATH)</td>\n",
       "      <td>(COMP, ENGI, MATE, MATH)</td>\n",
       "    </tr>\n",
       "    <tr>\n",
       "      <th>3</th>\n",
       "      <td>(MEDI,)</td>\n",
       "      <td>(MEDI,)</td>\n",
       "    </tr>\n",
       "    <tr>\n",
       "      <th>4</th>\n",
       "      <td>(ENGI, MATE)</td>\n",
       "      <td>(ENGI, MATE)</td>\n",
       "    </tr>\n",
       "    <tr>\n",
       "      <th>...</th>\n",
       "      <td>...</td>\n",
       "      <td>...</td>\n",
       "    </tr>\n",
       "    <tr>\n",
       "      <th>4038</th>\n",
       "      <td>(CHEM, PHAR)</td>\n",
       "      <td>(PHAR,)</td>\n",
       "    </tr>\n",
       "    <tr>\n",
       "      <th>4039</th>\n",
       "      <td>(MEDI,)</td>\n",
       "      <td>(MEDI,)</td>\n",
       "    </tr>\n",
       "    <tr>\n",
       "      <th>4040</th>\n",
       "      <td>(MEDI,)</td>\n",
       "      <td>(MEDI,)</td>\n",
       "    </tr>\n",
       "    <tr>\n",
       "      <th>4041</th>\n",
       "      <td>(ARTS, SOCI)</td>\n",
       "      <td>(ARTS, SOCI)</td>\n",
       "    </tr>\n",
       "    <tr>\n",
       "      <th>4042</th>\n",
       "      <td>(ENGI,)</td>\n",
       "      <td>(ENGI,)</td>\n",
       "    </tr>\n",
       "  </tbody>\n",
       "</table>\n",
       "<p>4043 rows × 2 columns</p>\n",
       "</div>"
      ],
      "text/plain": [
       "              Predicted Labels               True Labels\n",
       "0                      (MEDI,)                   (MEDI,)\n",
       "1                 (NURS, SOCI)                   (NURS,)\n",
       "2     (COMP, ENGI, MATE, MATH)  (COMP, ENGI, MATE, MATH)\n",
       "3                      (MEDI,)                   (MEDI,)\n",
       "4                 (ENGI, MATE)              (ENGI, MATE)\n",
       "...                        ...                       ...\n",
       "4038              (CHEM, PHAR)                   (PHAR,)\n",
       "4039                   (MEDI,)                   (MEDI,)\n",
       "4040                   (MEDI,)                   (MEDI,)\n",
       "4041              (ARTS, SOCI)              (ARTS, SOCI)\n",
       "4042                   (ENGI,)                   (ENGI,)\n",
       "\n",
       "[4043 rows x 2 columns]"
      ]
     },
     "execution_count": 17,
     "metadata": {},
     "output_type": "execute_result"
    }
   ],
   "source": [
    "df = pd.DataFrame({\n",
    "    'Predicted Labels': y_pred_labels,\n",
    "    'True Labels': y_test_labels\n",
    "})\n",
    "\n",
    "df"
   ]
  },
  {
   "cell_type": "code",
   "execution_count": null,
   "metadata": {},
   "outputs": [],
   "source": [
    "# df.loc[df['Predicted Labels'] != df['True Labels']]"
   ]
  },
  {
   "cell_type": "markdown",
   "metadata": {},
   "source": [
    "# Scopus uploading"
   ]
  },
  {
   "cell_type": "code",
   "execution_count": 21,
   "metadata": {},
   "outputs": [],
   "source": [
    "import os\n",
    "import json\n",
    "import pandas as pd\n",
    "\n",
    "scopus_df = pd.read_csv('scopus_data.csv')"
   ]
  },
  {
   "cell_type": "code",
   "execution_count": 22,
   "metadata": {},
   "outputs": [
    {
     "data": {
      "text/html": [
       "<div>\n",
       "<style scoped>\n",
       "    .dataframe tbody tr th:only-of-type {\n",
       "        vertical-align: middle;\n",
       "    }\n",
       "\n",
       "    .dataframe tbody tr th {\n",
       "        vertical-align: top;\n",
       "    }\n",
       "\n",
       "    .dataframe thead th {\n",
       "        text-align: right;\n",
       "    }\n",
       "</style>\n",
       "<table border=\"1\" class=\"dataframe\">\n",
       "  <thead>\n",
       "    <tr style=\"text-align: right;\">\n",
       "      <th></th>\n",
       "      <th>dc:title</th>\n",
       "      <th>prism:publicationName</th>\n",
       "      <th>prism:coverDate</th>\n",
       "    </tr>\n",
       "  </thead>\n",
       "  <tbody>\n",
       "    <tr>\n",
       "      <th>0</th>\n",
       "      <td>Social Progress for Resilient Regions</td>\n",
       "      <td>Region</td>\n",
       "      <td>31/12/2018</td>\n",
       "    </tr>\n",
       "    <tr>\n",
       "      <th>1</th>\n",
       "      <td>Response: Fleischhauer and Czardybon evade the...</td>\n",
       "      <td>Studies in Language</td>\n",
       "      <td>31/12/2018</td>\n",
       "    </tr>\n",
       "    <tr>\n",
       "      <th>2</th>\n",
       "      <td>Fashion language and translatology</td>\n",
       "      <td>Babel</td>\n",
       "      <td>31/12/2018</td>\n",
       "    </tr>\n",
       "    <tr>\n",
       "      <th>3</th>\n",
       "      <td>A pragmatic framework to note-taking in consec...</td>\n",
       "      <td>Babel</td>\n",
       "      <td>31/12/2018</td>\n",
       "    </tr>\n",
       "    <tr>\n",
       "      <th>4</th>\n",
       "      <td>An Analytic Approximation to the Density of Tw...</td>\n",
       "      <td>Recoletos Multidisciplinary Research Journal</td>\n",
       "      <td>31/12/2018</td>\n",
       "    </tr>\n",
       "  </tbody>\n",
       "</table>\n",
       "</div>"
      ],
      "text/plain": [
       "                                            dc:title  \\\n",
       "0              Social Progress for Resilient Regions   \n",
       "1  Response: Fleischhauer and Czardybon evade the...   \n",
       "2                 Fashion language and translatology   \n",
       "3  A pragmatic framework to note-taking in consec...   \n",
       "4  An Analytic Approximation to the Density of Tw...   \n",
       "\n",
       "                          prism:publicationName prism:coverDate  \n",
       "0                                        Region      31/12/2018  \n",
       "1                           Studies in Language      31/12/2018  \n",
       "2                                         Babel      31/12/2018  \n",
       "3                                         Babel      31/12/2018  \n",
       "4  Recoletos Multidisciplinary Research Journal      31/12/2018  "
      ]
     },
     "execution_count": 22,
     "metadata": {},
     "output_type": "execute_result"
    }
   ],
   "source": [
    "scopus_df.head()"
   ]
  },
  {
   "cell_type": "code",
   "execution_count": 23,
   "metadata": {},
   "outputs": [
    {
     "data": {
      "text/plain": [
       "(3600, 3)"
      ]
     },
     "execution_count": 23,
     "metadata": {},
     "output_type": "execute_result"
    }
   ],
   "source": [
    "scopus_df.shape"
   ]
  },
  {
   "cell_type": "markdown",
   "metadata": {},
   "source": [
    "# Start Subject Area Prediction"
   ]
  },
  {
   "cell_type": "code",
   "execution_count": 24,
   "metadata": {},
   "outputs": [
    {
     "name": "stdout",
     "output_type": "stream",
     "text": [
      "Best Threshold: 0.2\n",
      "Best F1-Score: 0.797590351770416\n"
     ]
    }
   ],
   "source": [
    "print(f\"Best Threshold: {best_threshold}\")\n",
    "print(f\"Best F1-Score: {best_f1}\")"
   ]
  },
  {
   "cell_type": "code",
   "execution_count": null,
   "metadata": {},
   "outputs": [],
   "source": [
    "scopus_text_data = scopus_df['dc:title'] + ' ' + scopus_df['prism:publicationName']\n",
    "scopus_X = vectorizer.transform(scopus_text_data)  # use the trained vectorizer\n",
    "\n",
    "# predict probabilities for scopus_df\n",
    "scopus_pred_prob = model.predict_proba(scopus_X)\n",
    "\n",
    "# apply the best threshold to get multi-label predictions (if needed)\n",
    "scopus_pred_labels_multi = (scopus_pred_prob >= best_threshold).astype(int)\n",
    "\n",
    "# single-label predictions\n",
    "scopus_pred_single = np.zeros_like(scopus_pred_prob)\n",
    "scopus_pred_single[np.arange(scopus_pred_prob.shape[0]), scopus_pred_prob.argmax(axis=1)] = 1"
   ]
  },
  {
   "cell_type": "code",
   "execution_count": null,
   "metadata": {},
   "outputs": [],
   "source": [
    "\n",
    "scopus_labels_multi = mlb.inverse_transform(scopus_pred_labels_multi)  \n",
    "scopus_labels_single = mlb.inverse_transform(scopus_pred_single)    "
   ]
  },
  {
   "cell_type": "code",
   "execution_count": null,
   "metadata": {},
   "outputs": [],
   "source": [
    "\n",
    "scopus_df['Predicted Subject Area (Multi)'] = scopus_labels_multi\n",
    "scopus_df['Predicted Subject Area (Single)'] = scopus_labels_single"
   ]
  },
  {
   "cell_type": "code",
   "execution_count": null,
   "metadata": {},
   "outputs": [
    {
     "data": {
      "text/html": [
       "<div>\n",
       "<style scoped>\n",
       "    .dataframe tbody tr th:only-of-type {\n",
       "        vertical-align: middle;\n",
       "    }\n",
       "\n",
       "    .dataframe tbody tr th {\n",
       "        vertical-align: top;\n",
       "    }\n",
       "\n",
       "    .dataframe thead th {\n",
       "        text-align: right;\n",
       "    }\n",
       "</style>\n",
       "<table border=\"1\" class=\"dataframe\">\n",
       "  <thead>\n",
       "    <tr style=\"text-align: right;\">\n",
       "      <th></th>\n",
       "      <th>dc:title</th>\n",
       "      <th>prism:publicationName</th>\n",
       "      <th>Predicted Subject Area (Multi)</th>\n",
       "      <th>Predicted Subject Area (Single)</th>\n",
       "      <th>prism:coverDate</th>\n",
       "    </tr>\n",
       "  </thead>\n",
       "  <tbody>\n",
       "    <tr>\n",
       "      <th>0</th>\n",
       "      <td>Social Progress for Resilient Regions</td>\n",
       "      <td>Region</td>\n",
       "      <td>(SOCI,)</td>\n",
       "      <td>(SOCI,)</td>\n",
       "      <td>31/12/2018</td>\n",
       "    </tr>\n",
       "    <tr>\n",
       "      <th>1</th>\n",
       "      <td>Response: Fleischhauer and Czardybon evade the burden of proof</td>\n",
       "      <td>Studies in Language</td>\n",
       "      <td>(ARTS,)</td>\n",
       "      <td>(ARTS,)</td>\n",
       "      <td>31/12/2018</td>\n",
       "    </tr>\n",
       "    <tr>\n",
       "      <th>2</th>\n",
       "      <td>Fashion language and translatology</td>\n",
       "      <td>Babel</td>\n",
       "      <td>(ARTS,)</td>\n",
       "      <td>(ARTS,)</td>\n",
       "      <td>31/12/2018</td>\n",
       "    </tr>\n",
       "    <tr>\n",
       "      <th>3</th>\n",
       "      <td>A pragmatic framework to note-taking in consecutive interpretation</td>\n",
       "      <td>Babel</td>\n",
       "      <td>()</td>\n",
       "      <td>(MEDI,)</td>\n",
       "      <td>31/12/2018</td>\n",
       "    </tr>\n",
       "    <tr>\n",
       "      <th>4</th>\n",
       "      <td>An Analytic Approximation to the Density of Twin Primes</td>\n",
       "      <td>Recoletos Multidisciplinary Research Journal</td>\n",
       "      <td>()</td>\n",
       "      <td>(MEDI,)</td>\n",
       "      <td>31/12/2018</td>\n",
       "    </tr>\n",
       "    <tr>\n",
       "      <th>...</th>\n",
       "      <td>...</td>\n",
       "      <td>...</td>\n",
       "      <td>...</td>\n",
       "      <td>...</td>\n",
       "      <td>...</td>\n",
       "    </tr>\n",
       "    <tr>\n",
       "      <th>3595</th>\n",
       "      <td>A SOM-Based Trajectory Planning Analysis Method for Intelligent Groups System</td>\n",
       "      <td>SAE Technical Papers</td>\n",
       "      <td>(ENGI,)</td>\n",
       "      <td>(ENGI,)</td>\n",
       "      <td>31/12/2023</td>\n",
       "    </tr>\n",
       "    <tr>\n",
       "      <th>3596</th>\n",
       "      <td>Overview and Research on Airworthiness and Safety of Electrical Propulsion and Battery Technologies in eVTOL</td>\n",
       "      <td>SAE Technical Papers</td>\n",
       "      <td>(ENGI, MEDI)</td>\n",
       "      <td>(ENGI,)</td>\n",
       "      <td>31/12/2023</td>\n",
       "    </tr>\n",
       "    <tr>\n",
       "      <th>3597</th>\n",
       "      <td>Aeroengine Gas Path Parameter Trend Prediction Based on LSTM</td>\n",
       "      <td>SAE Technical Papers</td>\n",
       "      <td>(ENGI,)</td>\n",
       "      <td>(ENGI,)</td>\n",
       "      <td>31/12/2023</td>\n",
       "    </tr>\n",
       "    <tr>\n",
       "      <th>3598</th>\n",
       "      <td>A Wind Tunnel Investigation on the Aerodynamics of the Propulsion Wing for a Novel eVTOL Vehicle</td>\n",
       "      <td>SAE Technical Papers</td>\n",
       "      <td>(ENGI,)</td>\n",
       "      <td>(ENGI,)</td>\n",
       "      <td>31/12/2023</td>\n",
       "    </tr>\n",
       "    <tr>\n",
       "      <th>3599</th>\n",
       "      <td>High-Precision Modeling and Online Validation of a 200kW-Class Series Hybrid Power System in Aviation</td>\n",
       "      <td>SAE Technical Papers</td>\n",
       "      <td>(ENGI,)</td>\n",
       "      <td>(ENGI,)</td>\n",
       "      <td>31/12/2023</td>\n",
       "    </tr>\n",
       "  </tbody>\n",
       "</table>\n",
       "<p>3600 rows × 5 columns</p>\n",
       "</div>"
      ],
      "text/plain": [
       "                                                                                                          dc:title  \\\n",
       "0                                                                            Social Progress for Resilient Regions   \n",
       "1                                                   Response: Fleischhauer and Czardybon evade the burden of proof   \n",
       "2                                                                               Fashion language and translatology   \n",
       "3                                               A pragmatic framework to note-taking in consecutive interpretation   \n",
       "4                                                          An Analytic Approximation to the Density of Twin Primes   \n",
       "...                                                                                                            ...   \n",
       "3595                                 A SOM-Based Trajectory Planning Analysis Method for Intelligent Groups System   \n",
       "3596  Overview and Research on Airworthiness and Safety of Electrical Propulsion and Battery Technologies in eVTOL   \n",
       "3597                                                  Aeroengine Gas Path Parameter Trend Prediction Based on LSTM   \n",
       "3598              A Wind Tunnel Investigation on the Aerodynamics of the Propulsion Wing for a Novel eVTOL Vehicle   \n",
       "3599         High-Precision Modeling and Online Validation of a 200kW-Class Series Hybrid Power System in Aviation   \n",
       "\n",
       "                             prism:publicationName  \\\n",
       "0                                           Region   \n",
       "1                              Studies in Language   \n",
       "2                                            Babel   \n",
       "3                                            Babel   \n",
       "4     Recoletos Multidisciplinary Research Journal   \n",
       "...                                            ...   \n",
       "3595                          SAE Technical Papers   \n",
       "3596                          SAE Technical Papers   \n",
       "3597                          SAE Technical Papers   \n",
       "3598                          SAE Technical Papers   \n",
       "3599                          SAE Technical Papers   \n",
       "\n",
       "     Predicted Subject Area (Multi) Predicted Subject Area (Single)  \\\n",
       "0                           (SOCI,)                         (SOCI,)   \n",
       "1                           (ARTS,)                         (ARTS,)   \n",
       "2                           (ARTS,)                         (ARTS,)   \n",
       "3                                ()                         (MEDI,)   \n",
       "4                                ()                         (MEDI,)   \n",
       "...                             ...                             ...   \n",
       "3595                        (ENGI,)                         (ENGI,)   \n",
       "3596                   (ENGI, MEDI)                         (ENGI,)   \n",
       "3597                        (ENGI,)                         (ENGI,)   \n",
       "3598                        (ENGI,)                         (ENGI,)   \n",
       "3599                        (ENGI,)                         (ENGI,)   \n",
       "\n",
       "     prism:coverDate  \n",
       "0         31/12/2018  \n",
       "1         31/12/2018  \n",
       "2         31/12/2018  \n",
       "3         31/12/2018  \n",
       "4         31/12/2018  \n",
       "...              ...  \n",
       "3595      31/12/2023  \n",
       "3596      31/12/2023  \n",
       "3597      31/12/2023  \n",
       "3598      31/12/2023  \n",
       "3599      31/12/2023  \n",
       "\n",
       "[3600 rows x 5 columns]"
      ]
     },
     "execution_count": 61,
     "metadata": {},
     "output_type": "execute_result"
    }
   ],
   "source": [
    "\n",
    "df_with_pred = scopus_df[['dc:title', 'prism:publicationName', 'Predicted Subject Area (Multi)', 'Predicted Subject Area (Single)','prism:coverDate']]\n",
    "\n",
    "pd.set_option('display.max_colwidth', None)\n",
    "df_with_pred"
   ]
  },
  {
   "cell_type": "code",
   "execution_count": 62,
   "metadata": {},
   "outputs": [
    {
     "data": {
      "text/plain": [
       "0            (SOCI,)\n",
       "1            (ARTS,)\n",
       "2            (ARTS,)\n",
       "3                 ()\n",
       "4                 ()\n",
       "            ...     \n",
       "3595         (ENGI,)\n",
       "3596    (ENGI, MEDI)\n",
       "3597         (ENGI,)\n",
       "3598         (ENGI,)\n",
       "3599         (ENGI,)\n",
       "Name: Predicted Subject Area (Multi), Length: 3600, dtype: object"
      ]
     },
     "execution_count": 62,
     "metadata": {},
     "output_type": "execute_result"
    }
   ],
   "source": [
    "df_with_pred['Predicted Subject Area (Multi)']"
   ]
  },
  {
   "cell_type": "code",
   "execution_count": 31,
   "metadata": {},
   "outputs": [
    {
     "data": {
      "text/html": [
       "<div>\n",
       "<style scoped>\n",
       "    .dataframe tbody tr th:only-of-type {\n",
       "        vertical-align: middle;\n",
       "    }\n",
       "\n",
       "    .dataframe tbody tr th {\n",
       "        vertical-align: top;\n",
       "    }\n",
       "\n",
       "    .dataframe thead th {\n",
       "        text-align: right;\n",
       "    }\n",
       "</style>\n",
       "<table border=\"1\" class=\"dataframe\">\n",
       "  <thead>\n",
       "    <tr style=\"text-align: right;\">\n",
       "      <th></th>\n",
       "      <th>dc:title</th>\n",
       "      <th>prism:publicationName</th>\n",
       "      <th>Predicted Subject Area (Multi)</th>\n",
       "      <th>Predicted Subject Area (Single)</th>\n",
       "      <th>prism:coverDate</th>\n",
       "    </tr>\n",
       "  </thead>\n",
       "  <tbody>\n",
       "    <tr>\n",
       "      <th>3</th>\n",
       "      <td>A pragmatic framework to note-taking in consecutive interpretation</td>\n",
       "      <td>Babel</td>\n",
       "      <td>()</td>\n",
       "      <td>(MEDI,)</td>\n",
       "      <td>31/12/2018</td>\n",
       "    </tr>\n",
       "    <tr>\n",
       "      <th>4</th>\n",
       "      <td>An Analytic Approximation to the Density of Twin Primes</td>\n",
       "      <td>Recoletos Multidisciplinary Research Journal</td>\n",
       "      <td>()</td>\n",
       "      <td>(MEDI,)</td>\n",
       "      <td>31/12/2018</td>\n",
       "    </tr>\n",
       "    <tr>\n",
       "      <th>5</th>\n",
       "      <td>DANCE MOTIFS ON PREHISTORIC POTTERY FROM EASTERN CROATIA</td>\n",
       "      <td>Vjesnik Arheoloskog Muzeja u Zagrebu</td>\n",
       "      <td>()</td>\n",
       "      <td>(MEDI,)</td>\n",
       "      <td>31/12/2018</td>\n",
       "    </tr>\n",
       "    <tr>\n",
       "      <th>8</th>\n",
       "      <td>Geographic Information System-Based Suitability Analysis for Potential Shallow Tube-Well Irrigation Development</td>\n",
       "      <td>Recoletos Multidisciplinary Research Journal</td>\n",
       "      <td>()</td>\n",
       "      <td>(COMP,)</td>\n",
       "      <td>31/12/2018</td>\n",
       "    </tr>\n",
       "    <tr>\n",
       "      <th>11</th>\n",
       "      <td>ZBOROVANJE AMERIŠKEGA ZDRUŽENJA GEOGRAFOV 2018</td>\n",
       "      <td>Dela</td>\n",
       "      <td>()</td>\n",
       "      <td>(MEDI,)</td>\n",
       "      <td>31/12/2018</td>\n",
       "    </tr>\n",
       "    <tr>\n",
       "      <th>...</th>\n",
       "      <td>...</td>\n",
       "      <td>...</td>\n",
       "      <td>...</td>\n",
       "      <td>...</td>\n",
       "      <td>...</td>\n",
       "    </tr>\n",
       "    <tr>\n",
       "      <th>3537</th>\n",
       "      <td>Terminology in the wild: Enactive meaning-making in the Roman surveyors</td>\n",
       "      <td>Coming to Terms: Approaches to (Ancient) Terminologies</td>\n",
       "      <td>()</td>\n",
       "      <td>(MEDI,)</td>\n",
       "      <td>31/12/2023</td>\n",
       "    </tr>\n",
       "    <tr>\n",
       "      <th>3538</th>\n",
       "      <td>Coming to terms with aristotle: Technical terminology in the Poetics and beyond</td>\n",
       "      <td>Coming to Terms: Approaches to (Ancient) Terminologies</td>\n",
       "      <td>()</td>\n",
       "      <td>(MEDI,)</td>\n",
       "      <td>31/12/2023</td>\n",
       "    </tr>\n",
       "    <tr>\n",
       "      <th>3542</th>\n",
       "      <td>The rise of botanical terminology in the sixteenth and seventeenth centuries</td>\n",
       "      <td>Coming to Terms: Approaches to (Ancient) Terminologies</td>\n",
       "      <td>()</td>\n",
       "      <td>(MEDI,)</td>\n",
       "      <td>31/12/2023</td>\n",
       "    </tr>\n",
       "    <tr>\n",
       "      <th>3544</th>\n",
       "      <td>Coming to terms: Approaches to (ancient) terminologies</td>\n",
       "      <td>Coming to Terms: Approaches to (Ancient) Terminologies</td>\n",
       "      <td>()</td>\n",
       "      <td>(MEDI,)</td>\n",
       "      <td>31/12/2023</td>\n",
       "    </tr>\n",
       "    <tr>\n",
       "      <th>3549</th>\n",
       "      <td>Catalytic role of ionic liquids for the synthesis of bioactive N-heterocycles under solvent-free conditions</td>\n",
       "      <td>Solvent-Free Synthesis: Bioactive Heterocycles</td>\n",
       "      <td>()</td>\n",
       "      <td>(CENG,)</td>\n",
       "      <td>31/12/2023</td>\n",
       "    </tr>\n",
       "  </tbody>\n",
       "</table>\n",
       "<p>1210 rows × 5 columns</p>\n",
       "</div>"
      ],
      "text/plain": [
       "                                                                                                             dc:title  \\\n",
       "3                                                  A pragmatic framework to note-taking in consecutive interpretation   \n",
       "4                                                             An Analytic Approximation to the Density of Twin Primes   \n",
       "5                                                            DANCE MOTIFS ON PREHISTORIC POTTERY FROM EASTERN CROATIA   \n",
       "8     Geographic Information System-Based Suitability Analysis for Potential Shallow Tube-Well Irrigation Development   \n",
       "11                                                                     ZBOROVANJE AMERIŠKEGA ZDRUŽENJA GEOGRAFOV 2018   \n",
       "...                                                                                                               ...   \n",
       "3537                                          Terminology in the wild: Enactive meaning-making in the Roman surveyors   \n",
       "3538                                  Coming to terms with aristotle: Technical terminology in the Poetics and beyond   \n",
       "3542                                     The rise of botanical terminology in the sixteenth and seventeenth centuries   \n",
       "3544                                                           Coming to terms: Approaches to (ancient) terminologies   \n",
       "3549      Catalytic role of ionic liquids for the synthesis of bioactive N-heterocycles under solvent-free conditions   \n",
       "\n",
       "                                       prism:publicationName  \\\n",
       "3                                                      Babel   \n",
       "4               Recoletos Multidisciplinary Research Journal   \n",
       "5                       Vjesnik Arheoloskog Muzeja u Zagrebu   \n",
       "8               Recoletos Multidisciplinary Research Journal   \n",
       "11                                                      Dela   \n",
       "...                                                      ...   \n",
       "3537  Coming to Terms: Approaches to (Ancient) Terminologies   \n",
       "3538  Coming to Terms: Approaches to (Ancient) Terminologies   \n",
       "3542  Coming to Terms: Approaches to (Ancient) Terminologies   \n",
       "3544  Coming to Terms: Approaches to (Ancient) Terminologies   \n",
       "3549          Solvent-Free Synthesis: Bioactive Heterocycles   \n",
       "\n",
       "     Predicted Subject Area (Multi) Predicted Subject Area (Single)  \\\n",
       "3                                ()                         (MEDI,)   \n",
       "4                                ()                         (MEDI,)   \n",
       "5                                ()                         (MEDI,)   \n",
       "8                                ()                         (COMP,)   \n",
       "11                               ()                         (MEDI,)   \n",
       "...                             ...                             ...   \n",
       "3537                             ()                         (MEDI,)   \n",
       "3538                             ()                         (MEDI,)   \n",
       "3542                             ()                         (MEDI,)   \n",
       "3544                             ()                         (MEDI,)   \n",
       "3549                             ()                         (CENG,)   \n",
       "\n",
       "     prism:coverDate  \n",
       "3         31/12/2018  \n",
       "4         31/12/2018  \n",
       "5         31/12/2018  \n",
       "8         31/12/2018  \n",
       "11        31/12/2018  \n",
       "...              ...  \n",
       "3537      31/12/2023  \n",
       "3538      31/12/2023  \n",
       "3542      31/12/2023  \n",
       "3544      31/12/2023  \n",
       "3549      31/12/2023  \n",
       "\n",
       "[1210 rows x 5 columns]"
      ]
     },
     "execution_count": 31,
     "metadata": {},
     "output_type": "execute_result"
    }
   ],
   "source": [
    "df_with_pred[df_with_pred['Predicted Subject Area (Multi)'] == ()]"
   ]
  },
  {
   "cell_type": "code",
   "execution_count": 32,
   "metadata": {},
   "outputs": [
    {
     "data": {
      "text/html": [
       "<div>\n",
       "<style scoped>\n",
       "    .dataframe tbody tr th:only-of-type {\n",
       "        vertical-align: middle;\n",
       "    }\n",
       "\n",
       "    .dataframe tbody tr th {\n",
       "        vertical-align: top;\n",
       "    }\n",
       "\n",
       "    .dataframe thead th {\n",
       "        text-align: right;\n",
       "    }\n",
       "</style>\n",
       "<table border=\"1\" class=\"dataframe\">\n",
       "  <thead>\n",
       "    <tr style=\"text-align: right;\">\n",
       "      <th></th>\n",
       "      <th>dc:title</th>\n",
       "      <th>prism:publicationName</th>\n",
       "      <th>Predicted Subject Area (Multi)</th>\n",
       "      <th>Predicted Subject Area (Single)</th>\n",
       "      <th>prism:coverDate</th>\n",
       "    </tr>\n",
       "  </thead>\n",
       "  <tbody>\n",
       "    <tr>\n",
       "      <th>2462</th>\n",
       "      <td>Between economy of effort and speech accuracy in hypokinetic dysarthria</td>\n",
       "      <td>Studi AISV</td>\n",
       "      <td>()</td>\n",
       "      <td>(SOCI,)</td>\n",
       "      <td>31/12/2022</td>\n",
       "    </tr>\n",
       "    <tr>\n",
       "      <th>1932</th>\n",
       "      <td>Innovative approaches to the ancient timbre of anatolian kabak kemane</td>\n",
       "      <td>Online Journal of Music Sciences</td>\n",
       "      <td>()</td>\n",
       "      <td>(ARTS,)</td>\n",
       "      <td>31/12/2021</td>\n",
       "    </tr>\n",
       "    <tr>\n",
       "      <th>1332</th>\n",
       "      <td>A research on the determination of the period when (Nim) zirgule tone began to be used as a tone while finishing of the maqams of buselik, dugah, humayun and hisar</td>\n",
       "      <td>Online Journal of Music Sciences</td>\n",
       "      <td>()</td>\n",
       "      <td>(SOCI,)</td>\n",
       "      <td>31/12/2020</td>\n",
       "    </tr>\n",
       "    <tr>\n",
       "      <th>960</th>\n",
       "      <td>NousSommes: Collectivity and the digital in French thought and culture</td>\n",
       "      <td>NousSommes: Collectivity and the Digital in French Thought and Culture</td>\n",
       "      <td>()</td>\n",
       "      <td>(ARTS,)</td>\n",
       "      <td>31/12/2019</td>\n",
       "    </tr>\n",
       "    <tr>\n",
       "      <th>921</th>\n",
       "      <td>A new approach for prevention the oxidations and mutations: Zinc borate</td>\n",
       "      <td>Journal of Boron</td>\n",
       "      <td>()</td>\n",
       "      <td>(ARTS,)</td>\n",
       "      <td>31/12/2019</td>\n",
       "    </tr>\n",
       "  </tbody>\n",
       "</table>\n",
       "</div>"
      ],
      "text/plain": [
       "                                                                                                                                                                 dc:title  \\\n",
       "2462                                                                                              Between economy of effort and speech accuracy in hypokinetic dysarthria   \n",
       "1932                                                                                                Innovative approaches to the ancient timbre of anatolian kabak kemane   \n",
       "1332  A research on the determination of the period when (Nim) zirgule tone began to be used as a tone while finishing of the maqams of buselik, dugah, humayun and hisar   \n",
       "960                                                                                                NousSommes: Collectivity and the digital in French thought and culture   \n",
       "921                                                                                               A new approach for prevention the oxidations and mutations: Zinc borate   \n",
       "\n",
       "                                                       prism:publicationName  \\\n",
       "2462                                                              Studi AISV   \n",
       "1932                                        Online Journal of Music Sciences   \n",
       "1332                                        Online Journal of Music Sciences   \n",
       "960   NousSommes: Collectivity and the Digital in French Thought and Culture   \n",
       "921                                                         Journal of Boron   \n",
       "\n",
       "     Predicted Subject Area (Multi) Predicted Subject Area (Single)  \\\n",
       "2462                             ()                         (SOCI,)   \n",
       "1932                             ()                         (ARTS,)   \n",
       "1332                             ()                         (SOCI,)   \n",
       "960                              ()                         (ARTS,)   \n",
       "921                              ()                         (ARTS,)   \n",
       "\n",
       "     prism:coverDate  \n",
       "2462      31/12/2022  \n",
       "1932      31/12/2021  \n",
       "1332      31/12/2020  \n",
       "960       31/12/2019  \n",
       "921       31/12/2019  "
      ]
     },
     "execution_count": 32,
     "metadata": {},
     "output_type": "execute_result"
    }
   ],
   "source": [
    "filtered_df = df_with_pred[\n",
    "    (df_with_pred['Predicted Subject Area (Multi)'].apply(lambda x: len(x) == 0)) &\n",
    "    (df_with_pred['Predicted Subject Area (Single)'].apply(lambda x: 'MEDI' not in x))\n",
    "]\n",
    "\n",
    "filtered_df.sample(5)"
   ]
  },
  {
   "cell_type": "code",
   "execution_count": 33,
   "metadata": {},
   "outputs": [],
   "source": [
    "# df_with_pred[df_with_pred['Predicted Subject Area (Multi)'] != ()]"
   ]
  },
  {
   "cell_type": "markdown",
   "metadata": {},
   "source": [
    "# Clean up"
   ]
  },
  {
   "cell_type": "code",
   "execution_count": 34,
   "metadata": {},
   "outputs": [],
   "source": [
    "def change(x):\n",
    "    x = set(x)\n",
    "    result = \"\"\n",
    "    for area in x:\n",
    "        result += area + \",\"\n",
    "    return result.strip(',')"
   ]
  },
  {
   "cell_type": "code",
   "execution_count": 35,
   "metadata": {},
   "outputs": [
    {
     "data": {
      "text/html": [
       "<div>\n",
       "<style scoped>\n",
       "    .dataframe tbody tr th:only-of-type {\n",
       "        vertical-align: middle;\n",
       "    }\n",
       "\n",
       "    .dataframe tbody tr th {\n",
       "        vertical-align: top;\n",
       "    }\n",
       "\n",
       "    .dataframe thead th {\n",
       "        text-align: right;\n",
       "    }\n",
       "</style>\n",
       "<table border=\"1\" class=\"dataframe\">\n",
       "  <thead>\n",
       "    <tr style=\"text-align: right;\">\n",
       "      <th></th>\n",
       "      <th>title</th>\n",
       "      <th>publicationName</th>\n",
       "      <th>subjectArea</th>\n",
       "      <th>publication_date</th>\n",
       "    </tr>\n",
       "  </thead>\n",
       "  <tbody>\n",
       "    <tr>\n",
       "      <th>0</th>\n",
       "      <td>Social Progress for Resilient Regions</td>\n",
       "      <td>Region</td>\n",
       "      <td>(SOCI,)</td>\n",
       "      <td>31/12/2018</td>\n",
       "    </tr>\n",
       "    <tr>\n",
       "      <th>1</th>\n",
       "      <td>Response: Fleischhauer and Czardybon evade the burden of proof</td>\n",
       "      <td>Studies in Language</td>\n",
       "      <td>(ARTS,)</td>\n",
       "      <td>31/12/2018</td>\n",
       "    </tr>\n",
       "    <tr>\n",
       "      <th>2</th>\n",
       "      <td>Fashion language and translatology</td>\n",
       "      <td>Babel</td>\n",
       "      <td>(ARTS,)</td>\n",
       "      <td>31/12/2018</td>\n",
       "    </tr>\n",
       "    <tr>\n",
       "      <th>6</th>\n",
       "      <td>Ricoeur’s Hermeneutics: Transforming Political Structures into Just Institutions through the Critical Appropriation of Political Power</td>\n",
       "      <td>Recoletos Multidisciplinary Research Journal</td>\n",
       "      <td>(ENGI,)</td>\n",
       "      <td>31/12/2018</td>\n",
       "    </tr>\n",
       "    <tr>\n",
       "      <th>7</th>\n",
       "      <td>Socio-Economic Indicators of Coastal Resource Management Participation: The Bataan Case</td>\n",
       "      <td>Recoletos Multidisciplinary Research Journal</td>\n",
       "      <td>(BUSI, ECON)</td>\n",
       "      <td>31/12/2018</td>\n",
       "    </tr>\n",
       "    <tr>\n",
       "      <th>...</th>\n",
       "      <td>...</td>\n",
       "      <td>...</td>\n",
       "      <td>...</td>\n",
       "      <td>...</td>\n",
       "    </tr>\n",
       "    <tr>\n",
       "      <th>3595</th>\n",
       "      <td>A SOM-Based Trajectory Planning Analysis Method for Intelligent Groups System</td>\n",
       "      <td>SAE Technical Papers</td>\n",
       "      <td>(ENGI,)</td>\n",
       "      <td>31/12/2023</td>\n",
       "    </tr>\n",
       "    <tr>\n",
       "      <th>3596</th>\n",
       "      <td>Overview and Research on Airworthiness and Safety of Electrical Propulsion and Battery Technologies in eVTOL</td>\n",
       "      <td>SAE Technical Papers</td>\n",
       "      <td>(ENGI, MEDI)</td>\n",
       "      <td>31/12/2023</td>\n",
       "    </tr>\n",
       "    <tr>\n",
       "      <th>3597</th>\n",
       "      <td>Aeroengine Gas Path Parameter Trend Prediction Based on LSTM</td>\n",
       "      <td>SAE Technical Papers</td>\n",
       "      <td>(ENGI,)</td>\n",
       "      <td>31/12/2023</td>\n",
       "    </tr>\n",
       "    <tr>\n",
       "      <th>3598</th>\n",
       "      <td>A Wind Tunnel Investigation on the Aerodynamics of the Propulsion Wing for a Novel eVTOL Vehicle</td>\n",
       "      <td>SAE Technical Papers</td>\n",
       "      <td>(ENGI,)</td>\n",
       "      <td>31/12/2023</td>\n",
       "    </tr>\n",
       "    <tr>\n",
       "      <th>3599</th>\n",
       "      <td>High-Precision Modeling and Online Validation of a 200kW-Class Series Hybrid Power System in Aviation</td>\n",
       "      <td>SAE Technical Papers</td>\n",
       "      <td>(ENGI,)</td>\n",
       "      <td>31/12/2023</td>\n",
       "    </tr>\n",
       "  </tbody>\n",
       "</table>\n",
       "<p>2390 rows × 4 columns</p>\n",
       "</div>"
      ],
      "text/plain": [
       "                                                                                                                                       title  \\\n",
       "0                                                                                                      Social Progress for Resilient Regions   \n",
       "1                                                                             Response: Fleischhauer and Czardybon evade the burden of proof   \n",
       "2                                                                                                         Fashion language and translatology   \n",
       "6     Ricoeur’s Hermeneutics: Transforming Political Structures into Just Institutions through the Critical Appropriation of Political Power   \n",
       "7                                                    Socio-Economic Indicators of Coastal Resource Management Participation: The Bataan Case   \n",
       "...                                                                                                                                      ...   \n",
       "3595                                                           A SOM-Based Trajectory Planning Analysis Method for Intelligent Groups System   \n",
       "3596                            Overview and Research on Airworthiness and Safety of Electrical Propulsion and Battery Technologies in eVTOL   \n",
       "3597                                                                            Aeroengine Gas Path Parameter Trend Prediction Based on LSTM   \n",
       "3598                                        A Wind Tunnel Investigation on the Aerodynamics of the Propulsion Wing for a Novel eVTOL Vehicle   \n",
       "3599                                   High-Precision Modeling and Online Validation of a 200kW-Class Series Hybrid Power System in Aviation   \n",
       "\n",
       "                                   publicationName   subjectArea  \\\n",
       "0                                           Region       (SOCI,)   \n",
       "1                              Studies in Language       (ARTS,)   \n",
       "2                                            Babel       (ARTS,)   \n",
       "6     Recoletos Multidisciplinary Research Journal       (ENGI,)   \n",
       "7     Recoletos Multidisciplinary Research Journal  (BUSI, ECON)   \n",
       "...                                            ...           ...   \n",
       "3595                          SAE Technical Papers       (ENGI,)   \n",
       "3596                          SAE Technical Papers  (ENGI, MEDI)   \n",
       "3597                          SAE Technical Papers       (ENGI,)   \n",
       "3598                          SAE Technical Papers       (ENGI,)   \n",
       "3599                          SAE Technical Papers       (ENGI,)   \n",
       "\n",
       "     publication_date  \n",
       "0          31/12/2018  \n",
       "1          31/12/2018  \n",
       "2          31/12/2018  \n",
       "6          31/12/2018  \n",
       "7          31/12/2018  \n",
       "...               ...  \n",
       "3595       31/12/2023  \n",
       "3596       31/12/2023  \n",
       "3597       31/12/2023  \n",
       "3598       31/12/2023  \n",
       "3599       31/12/2023  \n",
       "\n",
       "[2390 rows x 4 columns]"
      ]
     },
     "execution_count": 35,
     "metadata": {},
     "output_type": "execute_result"
    }
   ],
   "source": [
    "df_final = df_with_pred[df_with_pred['Predicted Subject Area (Multi)'] != ()].copy()\n",
    "\n",
    "df_final.drop(columns='Predicted Subject Area (Single)', inplace=True)\n",
    "df_final.rename(\n",
    "    columns={\n",
    "        'dc:title': 'title', \n",
    "        'prism:publicationName': 'publicationName', \n",
    "        'Predicted Subject Area (Multi)': 'subjectArea',\n",
    "        'prism:coverDate': 'publication_date'\n",
    "    }, \n",
    "    inplace=True\n",
    ")\n",
    "df_final"
   ]
  },
  {
   "cell_type": "code",
   "execution_count": 36,
   "metadata": {},
   "outputs": [],
   "source": [
    "df_final['subjectArea'] = df_final['subjectArea'].apply(list).apply(change)"
   ]
  },
  {
   "cell_type": "code",
   "execution_count": 37,
   "metadata": {},
   "outputs": [
    {
     "data": {
      "text/html": [
       "<div>\n",
       "<style scoped>\n",
       "    .dataframe tbody tr th:only-of-type {\n",
       "        vertical-align: middle;\n",
       "    }\n",
       "\n",
       "    .dataframe tbody tr th {\n",
       "        vertical-align: top;\n",
       "    }\n",
       "\n",
       "    .dataframe thead th {\n",
       "        text-align: right;\n",
       "    }\n",
       "</style>\n",
       "<table border=\"1\" class=\"dataframe\">\n",
       "  <thead>\n",
       "    <tr style=\"text-align: right;\">\n",
       "      <th></th>\n",
       "      <th>title</th>\n",
       "      <th>publicationName</th>\n",
       "      <th>subjectArea</th>\n",
       "      <th>publication_date</th>\n",
       "    </tr>\n",
       "  </thead>\n",
       "  <tbody>\n",
       "  </tbody>\n",
       "</table>\n",
       "</div>"
      ],
      "text/plain": [
       "Empty DataFrame\n",
       "Columns: [title, publicationName, subjectArea, publication_date]\n",
       "Index: []"
      ]
     },
     "execution_count": 37,
     "metadata": {},
     "output_type": "execute_result"
    }
   ],
   "source": [
    "df_final.loc[df_final['subjectArea'].isna()]"
   ]
  },
  {
   "cell_type": "markdown",
   "metadata": {},
   "source": [
    "# Merge 2 DataFrames"
   ]
  },
  {
   "cell_type": "code",
   "execution_count": 39,
   "metadata": {},
   "outputs": [],
   "source": [
    "df = pd.read_csv('data.csv')"
   ]
  },
  {
   "cell_type": "code",
   "execution_count": 40,
   "metadata": {},
   "outputs": [
    {
     "name": "stdout",
     "output_type": "stream",
     "text": [
      "<class 'pandas.core.frame.DataFrame'>\n",
      "RangeIndex: 20216 entries, 0 to 20215\n",
      "Data columns (total 6 columns):\n",
      " #   Column            Non-Null Count  Dtype \n",
      "---  ------            --------------  ----- \n",
      " 0   title             20215 non-null  object\n",
      " 1   publicationName   20216 non-null  object\n",
      " 2   abstract          19551 non-null  object\n",
      " 3   keywords          16443 non-null  object\n",
      " 4   subjectArea       20216 non-null  object\n",
      " 5   publication_date  20216 non-null  object\n",
      "dtypes: object(6)\n",
      "memory usage: 947.8+ KB\n"
     ]
    }
   ],
   "source": [
    "df.info()"
   ]
  },
  {
   "cell_type": "code",
   "execution_count": null,
   "metadata": {},
   "outputs": [
    {
     "data": {
      "text/plain": [
       "(20216, 6)"
      ]
     },
     "execution_count": 41,
     "metadata": {},
     "output_type": "execute_result"
    }
   ],
   "source": [
    "df.reset_index(drop=True, inplace=True)\n",
    "df_columns = ['title','publicationName','abstract','keywords','subjectArea','publication_date']\n",
    "df_final_columns = ['title','publicationName','subjectArea','publication_date']\n",
    "df.shape"
   ]
  },
  {
   "cell_type": "code",
   "execution_count": 42,
   "metadata": {},
   "outputs": [],
   "source": [
    "df_final.reset_index(drop=True, inplace=True)"
   ]
  },
  {
   "cell_type": "code",
   "execution_count": null,
   "metadata": {},
   "outputs": [
    {
     "data": {
      "text/html": [
       "<div>\n",
       "<style scoped>\n",
       "    .dataframe tbody tr th:only-of-type {\n",
       "        vertical-align: middle;\n",
       "    }\n",
       "\n",
       "    .dataframe tbody tr th {\n",
       "        vertical-align: top;\n",
       "    }\n",
       "\n",
       "    .dataframe thead th {\n",
       "        text-align: right;\n",
       "    }\n",
       "</style>\n",
       "<table border=\"1\" class=\"dataframe\">\n",
       "  <thead>\n",
       "    <tr style=\"text-align: right;\">\n",
       "      <th></th>\n",
       "      <th>title</th>\n",
       "      <th>publicationName</th>\n",
       "      <th>abstract</th>\n",
       "      <th>keywords</th>\n",
       "      <th>subjectArea</th>\n",
       "      <th>publication_date</th>\n",
       "    </tr>\n",
       "  </thead>\n",
       "  <tbody>\n",
       "    <tr>\n",
       "      <th>0</th>\n",
       "      <td>Social Progress for Resilient Regions</td>\n",
       "      <td>Region</td>\n",
       "      <td>NaN</td>\n",
       "      <td>NaN</td>\n",
       "      <td>SOCI</td>\n",
       "      <td>31/12/2018</td>\n",
       "    </tr>\n",
       "    <tr>\n",
       "      <th>1</th>\n",
       "      <td>Response: Fleischhauer and Czardybon evade the burden of proof</td>\n",
       "      <td>Studies in Language</td>\n",
       "      <td>NaN</td>\n",
       "      <td>NaN</td>\n",
       "      <td>ARTS</td>\n",
       "      <td>31/12/2018</td>\n",
       "    </tr>\n",
       "    <tr>\n",
       "      <th>2</th>\n",
       "      <td>Fashion language and translatology</td>\n",
       "      <td>Babel</td>\n",
       "      <td>NaN</td>\n",
       "      <td>NaN</td>\n",
       "      <td>ARTS</td>\n",
       "      <td>31/12/2018</td>\n",
       "    </tr>\n",
       "    <tr>\n",
       "      <th>3</th>\n",
       "      <td>Ricoeur’s Hermeneutics: Transforming Political Structures into Just Institutions through the Critical Appropriation of Political Power</td>\n",
       "      <td>Recoletos Multidisciplinary Research Journal</td>\n",
       "      <td>NaN</td>\n",
       "      <td>NaN</td>\n",
       "      <td>ENGI</td>\n",
       "      <td>31/12/2018</td>\n",
       "    </tr>\n",
       "    <tr>\n",
       "      <th>4</th>\n",
       "      <td>Socio-Economic Indicators of Coastal Resource Management Participation: The Bataan Case</td>\n",
       "      <td>Recoletos Multidisciplinary Research Journal</td>\n",
       "      <td>NaN</td>\n",
       "      <td>NaN</td>\n",
       "      <td>ECON,BUSI</td>\n",
       "      <td>31/12/2018</td>\n",
       "    </tr>\n",
       "  </tbody>\n",
       "</table>\n",
       "</div>"
      ],
      "text/plain": [
       "                                                                                                                                    title  \\\n",
       "0                                                                                                   Social Progress for Resilient Regions   \n",
       "1                                                                          Response: Fleischhauer and Czardybon evade the burden of proof   \n",
       "2                                                                                                      Fashion language and translatology   \n",
       "3  Ricoeur’s Hermeneutics: Transforming Political Structures into Just Institutions through the Critical Appropriation of Political Power   \n",
       "4                                                 Socio-Economic Indicators of Coastal Resource Management Participation: The Bataan Case   \n",
       "\n",
       "                                publicationName  abstract  keywords  \\\n",
       "0                                        Region       NaN       NaN   \n",
       "1                           Studies in Language       NaN       NaN   \n",
       "2                                         Babel       NaN       NaN   \n",
       "3  Recoletos Multidisciplinary Research Journal       NaN       NaN   \n",
       "4  Recoletos Multidisciplinary Research Journal       NaN       NaN   \n",
       "\n",
       "  subjectArea publication_date  \n",
       "0        SOCI       31/12/2018  \n",
       "1        ARTS       31/12/2018  \n",
       "2        ARTS       31/12/2018  \n",
       "3        ENGI       31/12/2018  \n",
       "4   ECON,BUSI       31/12/2018  "
      ]
     },
     "execution_count": 43,
     "metadata": {},
     "output_type": "execute_result"
    }
   ],
   "source": [
    "\n",
    "df_final = df_final.reindex(columns=df.columns, fill_value=None)\n",
    "df_final.head(5)"
   ]
  },
  {
   "cell_type": "code",
   "execution_count": null,
   "metadata": {},
   "outputs": [],
   "source": [
    "\n",
    "df_all2 = pd.concat([df, df_final], axis=0, ignore_index=True)"
   ]
  },
  {
   "cell_type": "code",
   "execution_count": null,
   "metadata": {},
   "outputs": [
    {
     "data": {
      "text/plain": [
       "(22606, 6)"
      ]
     },
     "execution_count": 45,
     "metadata": {},
     "output_type": "execute_result"
    }
   ],
   "source": [
    "\n",
    "df_all2.shape"
   ]
  },
  {
   "cell_type": "code",
   "execution_count": 51,
   "metadata": {},
   "outputs": [
    {
     "data": {
      "text/html": [
       "<div>\n",
       "<style scoped>\n",
       "    .dataframe tbody tr th:only-of-type {\n",
       "        vertical-align: middle;\n",
       "    }\n",
       "\n",
       "    .dataframe tbody tr th {\n",
       "        vertical-align: top;\n",
       "    }\n",
       "\n",
       "    .dataframe thead th {\n",
       "        text-align: right;\n",
       "    }\n",
       "</style>\n",
       "<table border=\"1\" class=\"dataframe\">\n",
       "  <thead>\n",
       "    <tr style=\"text-align: right;\">\n",
       "      <th></th>\n",
       "      <th>title</th>\n",
       "      <th>publicationName</th>\n",
       "      <th>abstract</th>\n",
       "      <th>keywords</th>\n",
       "      <th>subjectArea</th>\n",
       "      <th>publication_date</th>\n",
       "    </tr>\n",
       "  </thead>\n",
       "  <tbody>\n",
       "    <tr>\n",
       "      <th>13552</th>\n",
       "      <td>Biodegradation of 4-nitroaniline by novel isolate Bacillus sp. strain AVPP64 in the presence of pesticides</td>\n",
       "      <td>Environmental Pollution</td>\n",
       "      <td>© 2022 Elsevier LtdIn this study, Bacillus sp. strain AVPP64 was isolated from diuron-contaminated soil. It showed 4-nitroaniline (4-NA) degradation, pesticide tolerance, and self-nutrient integration via nitrogen (N)-fixation and phosphate (P)-solubilization. The rate constant (k) and half-life period (t1/2) of 4-NA degradation in the aqueous medium inoculated with strain AVPP64 were observed to be 0.445 d−1 and 1.55 d, respectively. Nevertheless, in the presence of chlorpyrifos, profenofos, atrazine and diuron pesticides, strain AVPP64 degraded 4-NA with t1/2 values of 2.55 d, 2.26 d, 2.31 d and 3.54 d, respectively. The strain AVPP64 fixed 140 μg mL−1 of N and solubilized 103 μg mL−1 of P during the presence of 4-NA. In addition, strain AVPP64 produced significant amounts of plant growth-promoting metabolites like indole 3-acetic acid, siderophores, exo-polysaccharides and ammonia. In the presence of 4-NA and various pesticides, strain AVPP64 greatly increased the growth and biomass of Vigna radiata and Crotalaria juncea plants. These results revealed that Bacillus sp. strain AVPP64 can be used as an inoculum for bioremediation of 4-NA contaminated soil and sustainable crop production even when pesticides are present.</td>\n",
       "      <td>4-nitroaniline,Bacillus sp. strain AVPP64,Biodegradation,Nitrogen fixation,Pesticides tolerance,Phosphate solubilization</td>\n",
       "      <td>ENVI,PHAR</td>\n",
       "      <td>01/08/2022</td>\n",
       "    </tr>\n",
       "  </tbody>\n",
       "</table>\n",
       "</div>"
      ],
      "text/plain": [
       "                                                                                                            title  \\\n",
       "13552  Biodegradation of 4-nitroaniline by novel isolate Bacillus sp. strain AVPP64 in the presence of pesticides   \n",
       "\n",
       "               publicationName  \\\n",
       "13552  Environmental Pollution   \n",
       "\n",
       "                                                                                                                                                                                                                                                                                                                                                                                                                                                                                                                                                                                                                                                                                                                                                                                                                                                                                                                                                                                                                                                                                                                                                                                                                                                                                       abstract  \\\n",
       "13552  © 2022 Elsevier LtdIn this study, Bacillus sp. strain AVPP64 was isolated from diuron-contaminated soil. It showed 4-nitroaniline (4-NA) degradation, pesticide tolerance, and self-nutrient integration via nitrogen (N)-fixation and phosphate (P)-solubilization. The rate constant (k) and half-life period (t1/2) of 4-NA degradation in the aqueous medium inoculated with strain AVPP64 were observed to be 0.445 d−1 and 1.55 d, respectively. Nevertheless, in the presence of chlorpyrifos, profenofos, atrazine and diuron pesticides, strain AVPP64 degraded 4-NA with t1/2 values of 2.55 d, 2.26 d, 2.31 d and 3.54 d, respectively. The strain AVPP64 fixed 140 μg mL−1 of N and solubilized 103 μg mL−1 of P during the presence of 4-NA. In addition, strain AVPP64 produced significant amounts of plant growth-promoting metabolites like indole 3-acetic acid, siderophores, exo-polysaccharides and ammonia. In the presence of 4-NA and various pesticides, strain AVPP64 greatly increased the growth and biomass of Vigna radiata and Crotalaria juncea plants. These results revealed that Bacillus sp. strain AVPP64 can be used as an inoculum for bioremediation of 4-NA contaminated soil and sustainable crop production even when pesticides are present.   \n",
       "\n",
       "                                                                                                                       keywords  \\\n",
       "13552  4-nitroaniline,Bacillus sp. strain AVPP64,Biodegradation,Nitrogen fixation,Pesticides tolerance,Phosphate solubilization   \n",
       "\n",
       "      subjectArea publication_date  \n",
       "13552   ENVI,PHAR       01/08/2022  "
      ]
     },
     "execution_count": 51,
     "metadata": {},
     "output_type": "execute_result"
    }
   ],
   "source": [
    "df_all2.sample(1)"
   ]
  },
  {
   "cell_type": "code",
   "execution_count": 52,
   "metadata": {},
   "outputs": [
    {
     "data": {
      "text/html": [
       "<div>\n",
       "<style scoped>\n",
       "    .dataframe tbody tr th:only-of-type {\n",
       "        vertical-align: middle;\n",
       "    }\n",
       "\n",
       "    .dataframe tbody tr th {\n",
       "        vertical-align: top;\n",
       "    }\n",
       "\n",
       "    .dataframe thead th {\n",
       "        text-align: right;\n",
       "    }\n",
       "</style>\n",
       "<table border=\"1\" class=\"dataframe\">\n",
       "  <thead>\n",
       "    <tr style=\"text-align: right;\">\n",
       "      <th></th>\n",
       "      <th>title</th>\n",
       "      <th>publicationName</th>\n",
       "      <th>abstract</th>\n",
       "      <th>keywords</th>\n",
       "      <th>subjectArea</th>\n",
       "      <th>publication_date</th>\n",
       "    </tr>\n",
       "  </thead>\n",
       "  <tbody>\n",
       "    <tr>\n",
       "      <th>22601</th>\n",
       "      <td>A SOM-Based Trajectory Planning Analysis Method for Intelligent Groups System</td>\n",
       "      <td>SAE Technical Papers</td>\n",
       "      <td>NaN</td>\n",
       "      <td>NaN</td>\n",
       "      <td>ENGI</td>\n",
       "      <td>31/12/2023</td>\n",
       "    </tr>\n",
       "    <tr>\n",
       "      <th>22602</th>\n",
       "      <td>Overview and Research on Airworthiness and Safety of Electrical Propulsion and Battery Technologies in eVTOL</td>\n",
       "      <td>SAE Technical Papers</td>\n",
       "      <td>NaN</td>\n",
       "      <td>NaN</td>\n",
       "      <td>MEDI,ENGI</td>\n",
       "      <td>31/12/2023</td>\n",
       "    </tr>\n",
       "    <tr>\n",
       "      <th>22603</th>\n",
       "      <td>Aeroengine Gas Path Parameter Trend Prediction Based on LSTM</td>\n",
       "      <td>SAE Technical Papers</td>\n",
       "      <td>NaN</td>\n",
       "      <td>NaN</td>\n",
       "      <td>ENGI</td>\n",
       "      <td>31/12/2023</td>\n",
       "    </tr>\n",
       "    <tr>\n",
       "      <th>22604</th>\n",
       "      <td>A Wind Tunnel Investigation on the Aerodynamics of the Propulsion Wing for a Novel eVTOL Vehicle</td>\n",
       "      <td>SAE Technical Papers</td>\n",
       "      <td>NaN</td>\n",
       "      <td>NaN</td>\n",
       "      <td>ENGI</td>\n",
       "      <td>31/12/2023</td>\n",
       "    </tr>\n",
       "    <tr>\n",
       "      <th>22605</th>\n",
       "      <td>High-Precision Modeling and Online Validation of a 200kW-Class Series Hybrid Power System in Aviation</td>\n",
       "      <td>SAE Technical Papers</td>\n",
       "      <td>NaN</td>\n",
       "      <td>NaN</td>\n",
       "      <td>ENGI</td>\n",
       "      <td>31/12/2023</td>\n",
       "    </tr>\n",
       "  </tbody>\n",
       "</table>\n",
       "</div>"
      ],
      "text/plain": [
       "                                                                                                              title  \\\n",
       "22601                                 A SOM-Based Trajectory Planning Analysis Method for Intelligent Groups System   \n",
       "22602  Overview and Research on Airworthiness and Safety of Electrical Propulsion and Battery Technologies in eVTOL   \n",
       "22603                                                  Aeroengine Gas Path Parameter Trend Prediction Based on LSTM   \n",
       "22604              A Wind Tunnel Investigation on the Aerodynamics of the Propulsion Wing for a Novel eVTOL Vehicle   \n",
       "22605         High-Precision Modeling and Online Validation of a 200kW-Class Series Hybrid Power System in Aviation   \n",
       "\n",
       "            publicationName abstract keywords subjectArea publication_date  \n",
       "22601  SAE Technical Papers      NaN      NaN        ENGI       31/12/2023  \n",
       "22602  SAE Technical Papers      NaN      NaN   MEDI,ENGI       31/12/2023  \n",
       "22603  SAE Technical Papers      NaN      NaN        ENGI       31/12/2023  \n",
       "22604  SAE Technical Papers      NaN      NaN        ENGI       31/12/2023  \n",
       "22605  SAE Technical Papers      NaN      NaN        ENGI       31/12/2023  "
      ]
     },
     "execution_count": 52,
     "metadata": {},
     "output_type": "execute_result"
    }
   ],
   "source": [
    "df_all2.tail()"
   ]
  },
  {
   "cell_type": "code",
   "execution_count": 118,
   "metadata": {},
   "outputs": [
    {
     "name": "stdout",
     "output_type": "stream",
     "text": [
      "Data saved to data.csv successfully!\n"
     ]
    }
   ],
   "source": [
    "df_all2.to_csv('merged_data.csv', index=False, encoding='utf-8')\n",
    "\n",
    "print(\"Data saved to data.csv successfully!\")"
   ]
  }
 ],
 "metadata": {
  "kernelspec": {
   "display_name": "Python 3",
   "language": "python",
   "name": "python3"
  },
  "language_info": {
   "codemirror_mode": {
    "name": "ipython",
    "version": 3
   },
   "file_extension": ".py",
   "mimetype": "text/x-python",
   "name": "python",
   "nbconvert_exporter": "python",
   "pygments_lexer": "ipython3",
   "version": "3.12.5"
  }
 },
 "nbformat": 4,
 "nbformat_minor": 2
}
