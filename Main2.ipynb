{
 "cells": [
  {
   "cell_type": "code",
   "execution_count": 14,
   "metadata": {},
   "outputs": [],
   "source": [
    "import os\n",
    "import json\n",
    "import pandas as pd\n",
    "\n",
    "# Directories containing JSON files\n",
    "directories = ['2018', '2019']\n",
    "\n",
    "# List to store extracted data\n",
    "extracted_data = []\n",
    "\n",
    "# Iterate through each directory\n",
    "for directory in directories:\n",
    "    # Iterate through each file in the current directory\n",
    "    for filename in os.listdir(directory):\n",
    "        if filename.endswith('.json'):  # Ensure it's a JSON file\n",
    "            filepath = os.path.join(directory, filename)\n",
    "            \n",
    "            # Open and load the JSON file\n",
    "            with open(filepath, 'r') as file:\n",
    "                data = json.load(file)\n",
    "                \n",
    "                # Extract the relevant part of the JSON\n",
    "                response = data.get('abstracts-retrieval-response', {})\n",
    "                \n",
    "                # Extract specific fields\n",
    "                title = response.get('coredata', {}).get('dc:title', None)\n",
    "                publicationName = response.get('coredata', {}).get('prism:publicationName', None)\n",
    "                subject_area_list = response.get('subject-areas', {}).get('subject-area', [])\n",
    "                subjectArea = subject_area_list[0].get('@abbrev', None) if subject_area_list else None\n",
    "\n",
    "                \n",
    "                # Append the extracted data as a dictionary\n",
    "                extracted_data.append({\n",
    "                    'title': title,\n",
    "                    'publicationName': publicationName,\n",
    "                    'subjectArea': subjectArea\n",
    "                })\n",
    "\n",
    "# Convert the extracted data into a DataFrame\n",
    "df = pd.DataFrame(extracted_data)\n"
   ]
  },
  {
   "cell_type": "code",
   "execution_count": 15,
   "metadata": {},
   "outputs": [
    {
     "data": {
      "text/html": [
       "<div>\n",
       "<style scoped>\n",
       "    .dataframe tbody tr th:only-of-type {\n",
       "        vertical-align: middle;\n",
       "    }\n",
       "\n",
       "    .dataframe tbody tr th {\n",
       "        vertical-align: top;\n",
       "    }\n",
       "\n",
       "    .dataframe thead th {\n",
       "        text-align: right;\n",
       "    }\n",
       "</style>\n",
       "<table border=\"1\" class=\"dataframe\">\n",
       "  <thead>\n",
       "    <tr style=\"text-align: right;\">\n",
       "      <th></th>\n",
       "      <th>title</th>\n",
       "      <th>publicationName</th>\n",
       "      <th>subjectArea</th>\n",
       "    </tr>\n",
       "  </thead>\n",
       "  <tbody>\n",
       "    <tr>\n",
       "      <th>0</th>\n",
       "      <td>Effects of iron content on the microstructure ...</td>\n",
       "      <td>Materials Chemistry and Physics</td>\n",
       "      <td>MATE</td>\n",
       "    </tr>\n",
       "    <tr>\n",
       "      <th>1</th>\n",
       "      <td>The critical factors of research and innovatio...</td>\n",
       "      <td>International Journal of Trade and Global Markets</td>\n",
       "      <td>BUSI</td>\n",
       "    </tr>\n",
       "    <tr>\n",
       "      <th>2</th>\n",
       "      <td>Is the occiput-wall distance valid and reliabl...</td>\n",
       "      <td>Musculoskeletal Science and Practice</td>\n",
       "      <td>HEAL</td>\n",
       "    </tr>\n",
       "    <tr>\n",
       "      <th>3</th>\n",
       "      <td>Comparison of soil composition between farmlan...</td>\n",
       "      <td>Eurasian Journal of Analytical Chemistry</td>\n",
       "      <td>CHEM</td>\n",
       "    </tr>\n",
       "    <tr>\n",
       "      <th>4</th>\n",
       "      <td>The impact of wire caliber on ERCP outcomes: a...</td>\n",
       "      <td>Gastrointestinal Endoscopy</td>\n",
       "      <td>MEDI</td>\n",
       "    </tr>\n",
       "    <tr>\n",
       "      <th>...</th>\n",
       "      <td>...</td>\n",
       "      <td>...</td>\n",
       "      <td>...</td>\n",
       "    </tr>\n",
       "    <tr>\n",
       "      <th>5869</th>\n",
       "      <td>Burned brick production from residues of quarr...</td>\n",
       "      <td>Journal of Building Engineering</td>\n",
       "      <td>ENGI</td>\n",
       "    </tr>\n",
       "    <tr>\n",
       "      <th>5870</th>\n",
       "      <td>Modeling household dynamics on Respiratory Syn...</td>\n",
       "      <td>PLoS ONE</td>\n",
       "      <td>MULT</td>\n",
       "    </tr>\n",
       "    <tr>\n",
       "      <th>5871</th>\n",
       "      <td>Oral health education improved oral health kno...</td>\n",
       "      <td>Oral Health and Preventive Dentistry</td>\n",
       "      <td>DENT</td>\n",
       "    </tr>\n",
       "    <tr>\n",
       "      <th>5872</th>\n",
       "      <td>Court-type traditional Thai massage efficacy o...</td>\n",
       "      <td>Journal of the Medical Association of Thailand</td>\n",
       "      <td>MEDI</td>\n",
       "    </tr>\n",
       "    <tr>\n",
       "      <th>5873</th>\n",
       "      <td>Strengthening BIMSTEC integration: The new agenda</td>\n",
       "      <td>Twenty Years of BIMSTEC: Promoting Regional Co...</td>\n",
       "      <td>SOCI</td>\n",
       "    </tr>\n",
       "  </tbody>\n",
       "</table>\n",
       "<p>5874 rows × 3 columns</p>\n",
       "</div>"
      ],
      "text/plain": [
       "                                                  title  \\\n",
       "0     Effects of iron content on the microstructure ...   \n",
       "1     The critical factors of research and innovatio...   \n",
       "2     Is the occiput-wall distance valid and reliabl...   \n",
       "3     Comparison of soil composition between farmlan...   \n",
       "4     The impact of wire caliber on ERCP outcomes: a...   \n",
       "...                                                 ...   \n",
       "5869  Burned brick production from residues of quarr...   \n",
       "5870  Modeling household dynamics on Respiratory Syn...   \n",
       "5871  Oral health education improved oral health kno...   \n",
       "5872  Court-type traditional Thai massage efficacy o...   \n",
       "5873  Strengthening BIMSTEC integration: The new agenda   \n",
       "\n",
       "                                        publicationName subjectArea  \n",
       "0                       Materials Chemistry and Physics        MATE  \n",
       "1     International Journal of Trade and Global Markets        BUSI  \n",
       "2                  Musculoskeletal Science and Practice        HEAL  \n",
       "3              Eurasian Journal of Analytical Chemistry        CHEM  \n",
       "4                            Gastrointestinal Endoscopy        MEDI  \n",
       "...                                                 ...         ...  \n",
       "5869                    Journal of Building Engineering        ENGI  \n",
       "5870                                           PLoS ONE        MULT  \n",
       "5871               Oral Health and Preventive Dentistry        DENT  \n",
       "5872     Journal of the Medical Association of Thailand        MEDI  \n",
       "5873  Twenty Years of BIMSTEC: Promoting Regional Co...        SOCI  \n",
       "\n",
       "[5874 rows x 3 columns]"
      ]
     },
     "execution_count": 15,
     "metadata": {},
     "output_type": "execute_result"
    }
   ],
   "source": [
    "df"
   ]
  },
  {
   "cell_type": "code",
   "execution_count": 16,
   "metadata": {},
   "outputs": [
    {
     "data": {
      "text/plain": [
       "(5874, 3)"
      ]
     },
     "execution_count": 16,
     "metadata": {},
     "output_type": "execute_result"
    }
   ],
   "source": [
    "df.shape"
   ]
  },
  {
   "cell_type": "code",
   "execution_count": 17,
   "metadata": {},
   "outputs": [
    {
     "data": {
      "text/plain": [
       "title              1\n",
       "publicationName    0\n",
       "subjectArea        0\n",
       "dtype: int64"
      ]
     },
     "execution_count": 17,
     "metadata": {},
     "output_type": "execute_result"
    }
   ],
   "source": [
    "df.isnull().sum()"
   ]
  },
  {
   "cell_type": "markdown",
   "metadata": {},
   "source": []
  },
  {
   "cell_type": "code",
   "execution_count": null,
   "metadata": {},
   "outputs": [],
   "source": []
  }
 ],
 "metadata": {
  "kernelspec": {
   "display_name": "Python 3",
   "language": "python",
   "name": "python3"
  },
  "language_info": {
   "codemirror_mode": {
    "name": "ipython",
    "version": 3
   },
   "file_extension": ".py",
   "mimetype": "text/x-python",
   "name": "python",
   "nbconvert_exporter": "python",
   "pygments_lexer": "ipython3",
   "version": "3.12.5"
  }
 },
 "nbformat": 4,
 "nbformat_minor": 2
}
