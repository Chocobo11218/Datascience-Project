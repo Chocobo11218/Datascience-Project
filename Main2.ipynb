{
 "cells": [
  {
   "cell_type": "code",
   "execution_count": 1,
   "metadata": {},
   "outputs": [],
   "source": [
    "import os\n",
    "import json\n",
    "import pandas as pd\n",
    "\n",
    "# Directories containing JSON files\n",
    "directories = ['2018']\n",
    "\n",
    "# List to store extracted data\n",
    "extracted_data = []\n",
    "\n",
    "# Iterate through each directory\n",
    "for directory in directories:\n",
    "    # Iterate through each file in the current directory\n",
    "    for filename in os.listdir(directory):\n",
    "        if filename.endswith('.json'):  # Ensure it's a JSON file\n",
    "            filepath = os.path.join(directory, filename)\n",
    "            \n",
    "            # Open and load the JSON file\n",
    "            with open(filepath, 'r') as file:\n",
    "                data = json.load(file)\n",
    "                \n",
    "                # Extract the relevant part of the JSON\n",
    "                response = data.get('abstracts-retrieval-response', {})\n",
    "                \n",
    "                # Extract specific fields\n",
    "                title = response.get('coredata', {}).get('dc:title', None)\n",
    "                publicationName = response.get('coredata', {}).get('prism:publicationName', None)\n",
    "                abstract = response.get('item', {}).get('bibrecord', {}).get('head', {}).get('abstracts', None)\n",
    "                \n",
    "                subject_area_list = response.get('subject-areas', {}).get('subject-area', [])\n",
    "                subjectArea = subject_area_list[0].get('@abbrev', None) if subject_area_list else None\n",
    "\n",
    "                # Extract author keywords and combine into a single string\n",
    "                # Extract author keywords and combine into a single string\n",
    "                auth_keywords = response.get('authkeywords', {})\n",
    "                if isinstance(auth_keywords, dict):  # Ensure it's a dictionary\n",
    "                    keywords_list = auth_keywords.get('author-keyword', [])\n",
    "                    if isinstance(keywords_list, list):  # Ensure 'author-keyword' is a list\n",
    "                        combined_keywords = \" \".join(\n",
    "                        [kw.get('$', '') for kw in keywords_list if isinstance(kw, dict)]\n",
    "                        )\n",
    "                else:\n",
    "                    combined_keywords = None  # Handle cases where auth_keywords is not a dictionary\n",
    "\n",
    "                # Append the extracted data as a dictionary\n",
    "                extracted_data.append({\n",
    "                    'title': title,\n",
    "                    'publicationName': publicationName,\n",
    "                    'abstract' : abstract,\n",
    "                    'keywords': combined_keywords,\n",
    "                    'subjectArea': subjectArea\n",
    "                })\n",
    "\n",
    "# Convert the extracted data into a DataFrame\n",
    "df = pd.DataFrame(extracted_data)\n"
   ]
  },
  {
   "cell_type": "code",
   "execution_count": 2,
   "metadata": {},
   "outputs": [
    {
     "data": {
      "text/html": [
       "<div>\n",
       "<style scoped>\n",
       "    .dataframe tbody tr th:only-of-type {\n",
       "        vertical-align: middle;\n",
       "    }\n",
       "\n",
       "    .dataframe tbody tr th {\n",
       "        vertical-align: top;\n",
       "    }\n",
       "\n",
       "    .dataframe thead th {\n",
       "        text-align: right;\n",
       "    }\n",
       "</style>\n",
       "<table border=\"1\" class=\"dataframe\">\n",
       "  <thead>\n",
       "    <tr style=\"text-align: right;\">\n",
       "      <th></th>\n",
       "      <th>title</th>\n",
       "      <th>publicationName</th>\n",
       "      <th>abstract</th>\n",
       "      <th>keywords</th>\n",
       "      <th>subjectArea</th>\n",
       "    </tr>\n",
       "  </thead>\n",
       "  <tbody>\n",
       "    <tr>\n",
       "      <th>0</th>\n",
       "      <td>Effects of iron content on the microstructure ...</td>\n",
       "      <td>Materials Chemistry and Physics</td>\n",
       "      <td>© 2018The microstructure and corrosion behavio...</td>\n",
       "      <td>EIS Microstructure Pitting corrosion Polarizat...</td>\n",
       "      <td>MATE</td>\n",
       "    </tr>\n",
       "    <tr>\n",
       "      <th>1</th>\n",
       "      <td>The critical factors of research and innovatio...</td>\n",
       "      <td>International Journal of Trade and Global Markets</td>\n",
       "      <td>Copyright © 2018 Inderscience Enterprises Ltd....</td>\n",
       "      <td>Critical factors Innovation creation Public un...</td>\n",
       "      <td>BUSI</td>\n",
       "    </tr>\n",
       "    <tr>\n",
       "      <th>2</th>\n",
       "      <td>Is the occiput-wall distance valid and reliabl...</td>\n",
       "      <td>Musculoskeletal Science and Practice</td>\n",
       "      <td>© 2018Background: Hyperkyphosis may be frequen...</td>\n",
       "      <td>Cobb angle Dowager's hump Round back Spine</td>\n",
       "      <td>HEAL</td>\n",
       "    </tr>\n",
       "    <tr>\n",
       "      <th>3</th>\n",
       "      <td>Comparison of soil composition between farmlan...</td>\n",
       "      <td>Eurasian Journal of Analytical Chemistry</td>\n",
       "      <td>© 2018 Society for Innovative Research. All ri...</td>\n",
       "      <td>Agriculture land management Conserved area Soi...</td>\n",
       "      <td>CHEM</td>\n",
       "    </tr>\n",
       "    <tr>\n",
       "      <th>4</th>\n",
       "      <td>The impact of wire caliber on ERCP outcomes: a...</td>\n",
       "      <td>Gastrointestinal Endoscopy</td>\n",
       "      <td>© 2018Background and Aims: Wire-guided biliary...</td>\n",
       "      <td>None</td>\n",
       "      <td>MEDI</td>\n",
       "    </tr>\n",
       "    <tr>\n",
       "      <th>...</th>\n",
       "      <td>...</td>\n",
       "      <td>...</td>\n",
       "      <td>...</td>\n",
       "      <td>...</td>\n",
       "      <td>...</td>\n",
       "    </tr>\n",
       "    <tr>\n",
       "      <th>2787</th>\n",
       "      <td>Estimating actual evapotranspiration from NDVI...</td>\n",
       "      <td>Frontiers in Artificial Intelligence and Appli...</td>\n",
       "      <td>© 2018 The authors and IOS Press. All rights r...</td>\n",
       "      <td>Actual evapotranspiration Landsat 8 NDVI Remot...</td>\n",
       "      <td>COMP</td>\n",
       "    </tr>\n",
       "    <tr>\n",
       "      <th>2788</th>\n",
       "      <td>Genome-wide association study identified new s...</td>\n",
       "      <td>Scientific Reports</td>\n",
       "      <td>© 2018 The Author(s).We have performed a genom...</td>\n",
       "      <td>None</td>\n",
       "      <td>MULT</td>\n",
       "    </tr>\n",
       "    <tr>\n",
       "      <th>2789</th>\n",
       "      <td>Effects of transcranial direct current stimula...</td>\n",
       "      <td>Journal of the Medical Association of Thailand</td>\n",
       "      <td>© 2018, Medical Association of Thailand. All r...</td>\n",
       "      <td>Motor cortex Rehabilitation Stroke Transcrania...</td>\n",
       "      <td>MEDI</td>\n",
       "    </tr>\n",
       "    <tr>\n",
       "      <th>2790</th>\n",
       "      <td>Prevalence and risk factors for canine cogniti...</td>\n",
       "      <td>Thai Journal of Veterinary Medicine</td>\n",
       "      <td>© 2018 Chulalongkorn University Printing House...</td>\n",
       "      <td>Canine cognitive dysfunction syndrome Prevalen...</td>\n",
       "      <td>VETE</td>\n",
       "    </tr>\n",
       "    <tr>\n",
       "      <th>2791</th>\n",
       "      <td>Locus of Control and its Intergenerational Imp...</td>\n",
       "      <td>Economic Journal</td>\n",
       "      <td>© 2016 Royal Economic SocietyThis article buil...</td>\n",
       "      <td>None</td>\n",
       "      <td>ECON</td>\n",
       "    </tr>\n",
       "  </tbody>\n",
       "</table>\n",
       "<p>2792 rows × 5 columns</p>\n",
       "</div>"
      ],
      "text/plain": [
       "                                                  title  \\\n",
       "0     Effects of iron content on the microstructure ...   \n",
       "1     The critical factors of research and innovatio...   \n",
       "2     Is the occiput-wall distance valid and reliabl...   \n",
       "3     Comparison of soil composition between farmlan...   \n",
       "4     The impact of wire caliber on ERCP outcomes: a...   \n",
       "...                                                 ...   \n",
       "2787  Estimating actual evapotranspiration from NDVI...   \n",
       "2788  Genome-wide association study identified new s...   \n",
       "2789  Effects of transcranial direct current stimula...   \n",
       "2790  Prevalence and risk factors for canine cogniti...   \n",
       "2791  Locus of Control and its Intergenerational Imp...   \n",
       "\n",
       "                                        publicationName  \\\n",
       "0                       Materials Chemistry and Physics   \n",
       "1     International Journal of Trade and Global Markets   \n",
       "2                  Musculoskeletal Science and Practice   \n",
       "3              Eurasian Journal of Analytical Chemistry   \n",
       "4                            Gastrointestinal Endoscopy   \n",
       "...                                                 ...   \n",
       "2787  Frontiers in Artificial Intelligence and Appli...   \n",
       "2788                                 Scientific Reports   \n",
       "2789     Journal of the Medical Association of Thailand   \n",
       "2790                Thai Journal of Veterinary Medicine   \n",
       "2791                                   Economic Journal   \n",
       "\n",
       "                                               abstract  \\\n",
       "0     © 2018The microstructure and corrosion behavio...   \n",
       "1     Copyright © 2018 Inderscience Enterprises Ltd....   \n",
       "2     © 2018Background: Hyperkyphosis may be frequen...   \n",
       "3     © 2018 Society for Innovative Research. All ri...   \n",
       "4     © 2018Background and Aims: Wire-guided biliary...   \n",
       "...                                                 ...   \n",
       "2787  © 2018 The authors and IOS Press. All rights r...   \n",
       "2788  © 2018 The Author(s).We have performed a genom...   \n",
       "2789  © 2018, Medical Association of Thailand. All r...   \n",
       "2790  © 2018 Chulalongkorn University Printing House...   \n",
       "2791  © 2016 Royal Economic SocietyThis article buil...   \n",
       "\n",
       "                                               keywords subjectArea  \n",
       "0     EIS Microstructure Pitting corrosion Polarizat...        MATE  \n",
       "1     Critical factors Innovation creation Public un...        BUSI  \n",
       "2            Cobb angle Dowager's hump Round back Spine        HEAL  \n",
       "3     Agriculture land management Conserved area Soi...        CHEM  \n",
       "4                                                  None        MEDI  \n",
       "...                                                 ...         ...  \n",
       "2787  Actual evapotranspiration Landsat 8 NDVI Remot...        COMP  \n",
       "2788                                               None        MULT  \n",
       "2789  Motor cortex Rehabilitation Stroke Transcrania...        MEDI  \n",
       "2790  Canine cognitive dysfunction syndrome Prevalen...        VETE  \n",
       "2791                                               None        ECON  \n",
       "\n",
       "[2792 rows x 5 columns]"
      ]
     },
     "execution_count": 2,
     "metadata": {},
     "output_type": "execute_result"
    }
   ],
   "source": [
    "df"
   ]
  },
  {
   "cell_type": "code",
   "execution_count": 3,
   "metadata": {},
   "outputs": [
    {
     "data": {
      "text/plain": [
       "(2792, 5)"
      ]
     },
     "execution_count": 3,
     "metadata": {},
     "output_type": "execute_result"
    }
   ],
   "source": [
    "df.shape"
   ]
  },
  {
   "cell_type": "code",
   "execution_count": 4,
   "metadata": {},
   "outputs": [],
   "source": [
    "#df.shape"
   ]
  },
  {
   "cell_type": "code",
   "execution_count": 5,
   "metadata": {},
   "outputs": [
    {
     "data": {
      "text/plain": [
       "title                0\n",
       "publicationName      0\n",
       "abstract           106\n",
       "keywords           555\n",
       "subjectArea          0\n",
       "dtype: int64"
      ]
     },
     "execution_count": 5,
     "metadata": {},
     "output_type": "execute_result"
    }
   ],
   "source": [
    "df.isnull().sum()"
   ]
  },
  {
   "cell_type": "code",
   "execution_count": 6,
   "metadata": {},
   "outputs": [],
   "source": [
    "df.dropna(inplace=True) #axis=0 "
   ]
  },
  {
   "cell_type": "code",
   "execution_count": 7,
   "metadata": {},
   "outputs": [
    {
     "data": {
      "text/plain": [
       "(2223, 5)"
      ]
     },
     "execution_count": 7,
     "metadata": {},
     "output_type": "execute_result"
    }
   ],
   "source": [
    "df.shape"
   ]
  },
  {
   "cell_type": "markdown",
   "metadata": {},
   "source": [
    "Cleannnnn Abstract"
   ]
  },
  {
   "cell_type": "code",
   "execution_count": 8,
   "metadata": {},
   "outputs": [
    {
     "data": {
      "text/plain": [
       "'\\nimport re\\n\\ndef clean_abstract(abstract):\\n    # Remove copyright and year text (e.g., \"© 2019\")\\n    cleaned_abstract = re.sub(r\\'© \\\\d{4}\\', \\'\\', abstract)\\n\\n    # Remove any unwanted text like reference markers or citation brackets\\n    cleaned_abstract = re.sub(r\\'\\\\[.*?\\\\]\\', \\'\\', cleaned_abstract)\\n\\n    # Remove special characters, keeping only alphabets and spaces\\n    cleaned_abstract = re.sub(r\\'[^a-zA-Z\\\\s]\\', \\'\\', cleaned_abstract)\\n\\n    # Remove extra spaces and make text lowercase\\n    cleaned_abstract = re.sub(r\\'\\\\s+\\', \\' \\', cleaned_abstract).strip().lower()\\n\\n    return cleaned_abstract\\n'"
      ]
     },
     "execution_count": 8,
     "metadata": {},
     "output_type": "execute_result"
    }
   ],
   "source": [
    "'''\n",
    "import re\n",
    "\n",
    "def clean_abstract(abstract):\n",
    "    # Remove copyright and year text (e.g., \"© 2019\")\n",
    "    cleaned_abstract = re.sub(r'© \\\\d{4}', '', abstract)\n",
    "\n",
    "    # Remove any unwanted text like reference markers or citation brackets\n",
    "    cleaned_abstract = re.sub(r'\\\\[.*?\\\\]', '', cleaned_abstract)\n",
    "\n",
    "    # Remove special characters, keeping only alphabets and spaces\n",
    "    cleaned_abstract = re.sub(r'[^a-zA-Z\\\\s]', '', cleaned_abstract)\n",
    "\n",
    "    # Remove extra spaces and make text lowercase\n",
    "    cleaned_abstract = re.sub(r'\\\\s+', ' ', cleaned_abstract).strip().lower()\n",
    "\n",
    "    return cleaned_abstract\n",
    "'''\n"
   ]
  },
  {
   "cell_type": "code",
   "execution_count": 9,
   "metadata": {},
   "outputs": [],
   "source": [
    "abstracts = [\"© 2019 2019 Aungsuroch et al., published by Sciendo.There is no single study that has examined nursing research priorities in Vietnam. This study aimed to gain consensus from experts on the nursing research priorities in Vietnam. A three-round modified Delphi study was used in this study. A focus group discussion among experts was conducted in round I to identify the nursing research priorities (n=23). Data in round I were analyzed using content analysis. In round II, participants were invited to rate the importance of each nursing priority topic in a 5-point Likert scale questionnaire, which had a 74% (n=17) response rate. In round III, the questionnaire was returned to the experts (n=17) until consensus was reached. Data from round II and round III were analyzed to produce mean score and final rank. The top 12 research priority lists were identified, which included subthemes and areas of possible investigations. All priorities were classified into three groups in the rank order, namely: (i) nursing management and leadership, which included (1) nursing care quality, (2) management and leadership of nurse managers, (3) nursing image, (4) professional nurse competency, and (5) human resource management; (ii) nursing education, which included (1) knowledge-specific domain, (2) the linkage between education and practice, and (3) nurse teacher workforce; and (iii) nursing service, which included (1) adult nursing concern, (2) patient safety, (3) public health nursing concern, and (4) quality of life of patients and nurses. Consensus among experts was achiever, and the findings are considered as the basis of resources to the most essential research needs in Vietnam.\",\n",
    "]"
   ]
  },
  {
   "cell_type": "code",
   "execution_count": 10,
   "metadata": {},
   "outputs": [
    {
     "name": "stdout",
     "output_type": "stream",
     "text": [
      "   aungsuroch et al publish sciendo single study examine nursing research priority vietnam\n"
     ]
    }
   ],
   "source": [
    "import spacy\n",
    "from spacy.lang.en.stop_words import STOP_WORDS\n",
    "import re\n",
    "\n",
    "# Load spaCy English model\n",
    "nlp = spacy.load(\"en_core_web_sm\")\n",
    "\n",
    "# Function to clean abstract text\n",
    "def clean_abstract(abstract):\n",
    "    # Remove copyright symbols and years (like \"© 2019\")\n",
    "    abstract = re.sub(r'©\\s*\\d{4}', '', abstract)\n",
    "    \n",
    "    # Process text with spaCy NLP model\n",
    "    doc = nlp(abstract)\n",
    "\n",
    "    # Keep only alphanumeric words (remove punctuation, digits, etc.)\n",
    "    cleaned_text = \" \".join([token.text.lower() for token in doc if not token.is_stop and not token.is_punct and not token.is_digit])\n",
    "\n",
    "    # Optional: Perform lemmatization if necessary\n",
    "    lemmatized_text = \" \".join([token.lemma_ for token in nlp(cleaned_text)])\n",
    "\n",
    "    # Optional: Truncate text to a maximum length\n",
    "    max_length = 300\n",
    "    if len(lemmatized_text) > max_length:\n",
    "        lemmatized_text = lemmatized_text[:max_length] + \"...\"\n",
    "    \n",
    "    return lemmatized_text\n",
    "\n",
    "# Example abstract\n",
    "abstract = \"© 2019 2019 Aungsuroch et al., published by Sciendo. There is no single study that has examined nursing research priorities in Vietnam...\"\n",
    "\n",
    "# Clean the abstract\n",
    "cleaned_abstract = clean_abstract(abstract)\n",
    "\n",
    "# Output cleaned abstract\n",
    "print(cleaned_abstract)\n"
   ]
  },
  {
   "cell_type": "code",
   "execution_count": 11,
   "metadata": {},
   "outputs": [
    {
     "data": {
      "text/plain": [
       "0       © 2018The microstructure and corrosion behavio...\n",
       "1       Copyright © 2018 Inderscience Enterprises Ltd....\n",
       "2       © 2018Background: Hyperkyphosis may be frequen...\n",
       "3       © 2018 Society for Innovative Research. All ri...\n",
       "5       © 2017, NATCO. All rights reserved.Introductio...\n",
       "                              ...                        \n",
       "2784    © 2018, The Author(s).There is no recent natio...\n",
       "2786    © 2018 Indian Journal of Critical Care Medicin...\n",
       "2787    © 2018 The authors and IOS Press. All rights r...\n",
       "2789    © 2018, Medical Association of Thailand. All r...\n",
       "2790    © 2018 Chulalongkorn University Printing House...\n",
       "Name: abstract, Length: 2223, dtype: object"
      ]
     },
     "execution_count": 11,
     "metadata": {},
     "output_type": "execute_result"
    }
   ],
   "source": [
    "df['abstract']"
   ]
  },
  {
   "cell_type": "code",
   "execution_count": 12,
   "metadata": {},
   "outputs": [],
   "source": [
    "# ไม่เวิคมั้ง\n",
    "# df['abstract_cleaned'] = [clean_abstract(a) for a in df['abstract'].to_list()]"
   ]
  },
  {
   "cell_type": "code",
   "execution_count": 17,
   "metadata": {},
   "outputs": [],
   "source": [
    "df['abstract_cleaned'] = [clean_abstract(a) for a in df['abstract'].to_list()]\n"
   ]
  },
  {
   "cell_type": "code",
   "execution_count": 18,
   "metadata": {},
   "outputs": [
    {
     "data": {
      "text/plain": [
       "0    Effects of iron content on the microstructure ...\n",
       "1    The critical factors of research and innovatio...\n",
       "2    Is the occiput-wall distance valid and reliabl...\n",
       "3    Comparison of soil composition between farmlan...\n",
       "5    The influence of neighbor effect and urbanizat...\n",
       "Name: combined, dtype: object"
      ]
     },
     "execution_count": 18,
     "metadata": {},
     "output_type": "execute_result"
    }
   ],
   "source": [
    "df['combined'] = df['title'] + \" \" + df['publicationName'] + \" \" + df['abstract_cleaned'] + \" \" + df['keywords']\n",
    "df['combined'].head()"
   ]
  },
  {
   "cell_type": "code",
   "execution_count": null,
   "metadata": {},
   "outputs": [],
   "source": [
    "# check"
   ]
  },
  {
   "cell_type": "code",
   "execution_count": 25,
   "metadata": {},
   "outputs": [
    {
     "data": {
      "text/plain": [
       "'The nanoporous carbon derived from melamine based polybenzoxazine and NaCl templating'"
      ]
     },
     "execution_count": 25,
     "metadata": {},
     "output_type": "execute_result"
    }
   ],
   "source": [
    "df['title'].iloc[30]"
   ]
  },
  {
   "cell_type": "code",
   "execution_count": 27,
   "metadata": {},
   "outputs": [
    {
     "data": {
      "text/plain": [
       "'Key Engineering Materials'"
      ]
     },
     "execution_count": 27,
     "metadata": {},
     "output_type": "execute_result"
    }
   ],
   "source": [
    "df['publicationName'].iloc[30]"
   ]
  },
  {
   "cell_type": "code",
   "execution_count": 24,
   "metadata": {},
   "outputs": [
    {
     "data": {
      "text/plain": [
       "'Acid catalysis Melamine Polybenzoxazine Porous carbon Ring-opening polymerization Templating'"
      ]
     },
     "execution_count": 24,
     "metadata": {},
     "output_type": "execute_result"
    }
   ],
   "source": [
    "df['keywords'].iloc[30]"
   ]
  },
  {
   "cell_type": "code",
   "execution_count": 20,
   "metadata": {},
   "outputs": [
    {
     "data": {
      "text/plain": [
       "'   trans tech publication switzerlandnanoporous carbon successfully prepare polybenzoxazine synthesize bisphenol melamine formaldehyde precursor vary hcl amount add pre polymer solution catalyst ring open polymerization reaction trace ftir dsc addition degradation behavior study tga textural propert...'"
      ]
     },
     "execution_count": 20,
     "metadata": {},
     "output_type": "execute_result"
    }
   ],
   "source": [
    "df['abstract_cleaned'].iloc[30]"
   ]
  },
  {
   "cell_type": "code",
   "execution_count": 19,
   "metadata": {},
   "outputs": [
    {
     "data": {
      "text/plain": [
       "'The nanoporous carbon derived from melamine based polybenzoxazine and NaCl templating Key Engineering Materials    trans tech publication switzerlandnanoporous carbon successfully prepare polybenzoxazine synthesize bisphenol melamine formaldehyde precursor vary hcl amount add pre polymer solution catalyst ring open polymerization reaction trace ftir dsc addition degradation behavior study tga textural propert... Acid catalysis Melamine Polybenzoxazine Porous carbon Ring-opening polymerization Templating'"
      ]
     },
     "execution_count": 19,
     "metadata": {},
     "output_type": "execute_result"
    }
   ],
   "source": [
    "df['combined'].iloc[30]"
   ]
  }
 ],
 "metadata": {
  "kernelspec": {
   "display_name": "Python 3",
   "language": "python",
   "name": "python3"
  },
  "language_info": {
   "codemirror_mode": {
    "name": "ipython",
    "version": 3
   },
   "file_extension": ".py",
   "mimetype": "text/x-python",
   "name": "python",
   "nbconvert_exporter": "python",
   "pygments_lexer": "ipython3",
   "version": "3.12.3"
  }
 },
 "nbformat": 4,
 "nbformat_minor": 2
}
