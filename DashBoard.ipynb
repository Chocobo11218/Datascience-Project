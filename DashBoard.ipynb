{
 "cells": [
  {
   "cell_type": "code",
   "execution_count": null,
   "metadata": {},
   "outputs": [],
   "source": [
    "import streamlit as st\n",
    "import pandas as pd\n",
    "\n",
    "# Load or create your dataset\n",
    "data = {\n",
    "    \"Subject Area\": [\"AI\", \"AI\", \"AI\", \"ML\", \"ML\", \"Data Science\", \"Data Science\"],\n",
    "    \"Year\": [2020, 2021, 2022, 2020, 2021, 2020, 2021],\n",
    "    \"Trending Keywords\": [\n",
    "        [\"neural networks\", \"deep learning\"],\n",
    "        [\"transformers\", \"reinforcement learning\"],\n",
    "        [\"AI ethics\", \"generative models\"],\n",
    "        [\"supervised learning\", \"SVM\"],\n",
    "        [\"unsupervised learning\", \"clustering\"],\n",
    "        [\"data visualization\", \"Pandas\"],\n",
    "        [\"big data\", \"Python\"]\n",
    "    ]\n",
    "}\n",
    "df = pd.DataFrame(data)\n",
    "\n",
    "# Streamlit elements\n",
    "st.title(\"Keyword Trends Dashboard\")\n",
    "\n",
    "# Subject area selector\n",
    "subject_area = st.selectbox(\"Select Subject Area\", df[\"Subject Area\"].unique())\n",
    "\n",
    "# Year selector\n",
    "year = st.selectbox(\"Select Year\", df[\"Year\"].unique())\n",
    "\n",
    "# Filter data based on selection\n",
    "filtered_data = df[(df[\"Subject Area\"] == subject_area) & (df[\"Year\"] == year)]\n",
    "\n",
    "if filtered_data.empty:\n",
    "    st.write(f\"No data available for {subject_area} in {year}\")\n",
    "else:\n",
    "    st.write(f\"Trending Keywords in {subject_area} for {year}:\")\n",
    "    st.write(filtered_data[\"Trending Keywords\"].values[0])\n",
    "\n"
   ]
  }
 ],
 "metadata": {
  "kernelspec": {
   "display_name": "Python 3",
   "language": "python",
   "name": "python3"
  },
  "language_info": {
   "name": "python",
   "version": "3.12.5"
  }
 },
 "nbformat": 4,
 "nbformat_minor": 2
}
