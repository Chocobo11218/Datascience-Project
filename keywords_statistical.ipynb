{
 "cells": [
  {
   "cell_type": "code",
   "execution_count": 36,
   "metadata": {},
   "outputs": [
    {
     "name": "stderr",
     "output_type": "stream",
     "text": [
      "C:\\Users\\VivoBook\\AppData\\Local\\Temp\\ipykernel_40888\\4149906671.py:29: SettingWithCopyWarning: \n",
      "A value is trying to be set on a copy of a slice from a DataFrame.\n",
      "Try using .loc[row_indexer,col_indexer] = value instead\n",
      "\n",
      "See the caveats in the documentation: https://pandas.pydata.org/pandas-docs/stable/user_guide/indexing.html#returning-a-view-versus-a-copy\n",
      "  latest_trends['is_emerging'] = (latest_trends['normalized_count'] > EMERGING_THRESHOLD).astype(int)\n"
     ]
    }
   ],
   "source": [
    "import pandas as pd\n",
    "\n",
    "\n",
    "data = pd.read_csv(\"data.csv\")\n",
    "\n",
    "\n",
    "data['year'] = pd.to_datetime(data['publication_date'], format='%d/%m/%Y').dt.year\n",
    "\n",
    "\n",
    "data['subjectArea'] = data['subjectArea'].apply(lambda x: x.split(';'))\n",
    "\n",
    "\n",
    "data = data.explode('subjectArea').explode('keywords')\n",
    "\n",
    "\n",
    "keyword_trends = data.groupby(['year', 'subjectArea', 'keywords']).size().reset_index(name='count')\n",
    "\n",
    "\n",
    "total_counts = data.groupby(['year', 'subjectArea']).size().reset_index(name='total_papers')\n",
    "keyword_trends = keyword_trends.merge(total_counts, on=['year', 'subjectArea'])\n",
    "keyword_trends['normalized_count'] = keyword_trends['count'] / keyword_trends['total_papers']\n",
    "\n",
    "\n",
    "EMERGING_THRESHOLD = 0.95\n",
    "\n",
    "\n",
    "latest_year = keyword_trends['year'].max()\n",
    "latest_trends = keyword_trends[keyword_trends['year'] == latest_year]\n",
    "latest_trends['is_emerging'] = (latest_trends['normalized_count'] > EMERGING_THRESHOLD).astype(int)\n",
    "\n",
    "\n",
    "emerging_keywords = (\n",
    "    latest_trends[latest_trends['is_emerging'] == 1]\n",
    "    .groupby('subjectArea')['keywords']\n",
    "    .apply(lambda x: '; '.join(sorted(set(x))))\n",
    "    .reset_index()\n",
    ")\n",
    "\n",
    "\n"
   ]
  },
  {
   "cell_type": "code",
   "execution_count": 38,
   "metadata": {},
   "outputs": [
    {
     "name": "stdout",
     "output_type": "stream",
     "text": [
      "            Subject Area                                  Emerging Keywords\n",
      "0         AGRI,BUSI,ECON  Area yield,Crop insurance,Insurance product de...\n",
      "1         AGRI,EART,ARTS  Anthropocene,Bang Khun Thian,Charcoal analysis...\n",
      "2              AGRI,ENER  CaO/HZSM-5,Central composite rotatable design,...\n",
      "3              AGRI,SOCI  Aroma components,Fermented soybean,Flavor,GC‒M...\n",
      "4    AGRI,SOCI,ENVI,ECON  Death and disappearance,Fishing industry,Socia...\n",
      "..                   ...                                                ...\n",
      "114            SOCI,ENVI  Adaptive role,Complementarity,Entry barriers,M...\n",
      "115            SOCI,HEAL  adolescent workers,occupational safety,Parasym...\n",
      "116       VETE,AGRI,IMMU  anopheline mosquito,genetic structure,identifi...\n",
      "117            VETE,IMMU  EEHV,Epitopes,Glycoprotein B,Peripheral blood ...\n",
      "118            VETE,PHAR  Crocodylus porosus,estuarine crocodiles,intram...\n",
      "\n",
      "[119 rows x 2 columns]\n"
     ]
    }
   ],
   "source": [
    "\n",
    "\n",
    "emerging_keywords.columns = ['Subject Area', 'Emerging Keywords']\n",
    "emerging_keywords.to_csv(\"emerging_keywords_statistical.csv\", index=False)\n",
    "print(emerging_keywords)"
   ]
  }
 ],
 "metadata": {
  "kernelspec": {
   "display_name": "Python 3",
   "language": "python",
   "name": "python3"
  },
  "language_info": {
   "codemirror_mode": {
    "name": "ipython",
    "version": 3
   },
   "file_extension": ".py",
   "mimetype": "text/x-python",
   "name": "python",
   "nbconvert_exporter": "python",
   "pygments_lexer": "ipython3",
   "version": "3.12.4"
  }
 },
 "nbformat": 4,
 "nbformat_minor": 2
}
