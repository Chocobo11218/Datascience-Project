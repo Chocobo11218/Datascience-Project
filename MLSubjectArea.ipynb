{
 "cells": [
  {
   "cell_type": "markdown",
   "metadata": {},
   "source": [
    "# Data preparation"
   ]
  },
  {
   "cell_type": "code",
   "execution_count": 30,
   "metadata": {},
   "outputs": [],
   "source": [
    "import os\n",
    "import json\n",
    "import pandas as pd\n",
    "\n",
    "# Directories containing JSON files\n",
    "directories = ['2018','2019','2020','2021','2022','2023']\n",
    "\n",
    "# List to store extracted data\n",
    "extracted_data = []\n",
    "\n",
    "# Iterate through each directory\n",
    "for directory in directories:\n",
    "    # Iterate through each file in the current directory\n",
    "    for filename in os.listdir(directory):\n",
    "        if filename.endswith('.json'):  # Ensure it's a JSON file\n",
    "            filepath = os.path.join(directory, filename)\n",
    "            \n",
    "            # Open and load the JSON file\n",
    "            with open(filepath, 'r', encoding=\"utf-8\") as file:\n",
    "                data = json.load(file)\n",
    "                \n",
    "                # Extract the relevant part of the JSON\n",
    "                response = data.get('abstracts-retrieval-response', {})\n",
    "                \n",
    "                # Extract specific fields\n",
    "                title = response.get('coredata', {}).get('dc:title', None)\n",
    "                publicationName = response.get('coredata', {}).get('prism:publicationName', None)\n",
    "                abstract = response.get('item', {}).get('bibrecord', {}).get('head', {}).get('abstracts', None)\n",
    "                \n",
    "                subject_area_list = response.get('subject-areas', {}).get('subject-area', [])\n",
    "                subjectArea = [item.get('@abbrev', None) for item in subject_area_list if '@abbrev' in item]\n",
    "\n",
    "\n",
    "                # publication date\n",
    "                date = response.get('item', {}).get(\"ait:process-info\", {}).get(\"ait:date-sort\",{})\n",
    "                day = date.get(\"@day\")\n",
    "                year = date.get(\"@year\")\n",
    "                month = date.get('@month')\n",
    "                format_date = f\"{day}/{month}/{year}\"\n",
    "\n",
    "                # Extract author keywords and combine into a single string\n",
    "                # Extract author keywords and combine into a single string\n",
    "                auth_keywords = response.get('authkeywords', {})\n",
    "                if isinstance(auth_keywords, dict):  # Ensure it's a dictionary\n",
    "                    keywords_list = auth_keywords.get('author-keyword', [])\n",
    "                    if isinstance(keywords_list, list):  # Ensure 'author-keyword' is a list\n",
    "                        combined_keywords = \",\".join(\n",
    "                        [kw.get('$', '') for kw in keywords_list if isinstance(kw, dict)]\n",
    "                        )\n",
    "                else:\n",
    "                    combined_keywords = None  # Handle cases where auth_keywords is not a dictionary\n",
    "\n",
    "                # Append the extracted data as a dictionary\n",
    "                extracted_data.append({\n",
    "                    'title': title,\n",
    "                    'publicationName': publicationName,\n",
    "                    'abstract' : abstract,\n",
    "                    'keywords': combined_keywords,\n",
    "                    'subjectArea': subjectArea,\n",
    "                    'publication_date': format_date\n",
    "                })\n",
    "\n",
    "# Convert the extracted data into a DataFrame\n",
    "df = pd.DataFrame(extracted_data)\n",
    "\n",
    "def change(x):\n",
    "    x=  set(x)\n",
    "    result = \"\"\n",
    "    for area in x:\n",
    "        result += area + \",\"\n",
    "    \n",
    "    return result[:-1]\n",
    "df[\"subjectArea\"] = df[\"subjectArea\"].apply(change)"
   ]
  },
  {
   "cell_type": "code",
   "execution_count": 31,
   "metadata": {},
   "outputs": [
    {
     "data": {
      "text/html": [
       "<div>\n",
       "<style scoped>\n",
       "    .dataframe tbody tr th:only-of-type {\n",
       "        vertical-align: middle;\n",
       "    }\n",
       "\n",
       "    .dataframe tbody tr th {\n",
       "        vertical-align: top;\n",
       "    }\n",
       "\n",
       "    .dataframe thead th {\n",
       "        text-align: right;\n",
       "    }\n",
       "</style>\n",
       "<table border=\"1\" class=\"dataframe\">\n",
       "  <thead>\n",
       "    <tr style=\"text-align: right;\">\n",
       "      <th></th>\n",
       "      <th>title</th>\n",
       "      <th>publicationName</th>\n",
       "      <th>abstract</th>\n",
       "      <th>keywords</th>\n",
       "      <th>subjectArea</th>\n",
       "      <th>publication_date</th>\n",
       "    </tr>\n",
       "  </thead>\n",
       "  <tbody>\n",
       "    <tr>\n",
       "      <th>0</th>\n",
       "      <td>Effects of iron content on the microstructure ...</td>\n",
       "      <td>Materials Chemistry and Physics</td>\n",
       "      <td>© 2018The microstructure and corrosion behavio...</td>\n",
       "      <td>EIS,Microstructure,Pitting corrosion,Polarizat...</td>\n",
       "      <td>MATE,PHYS</td>\n",
       "      <td>01/10/2018</td>\n",
       "    </tr>\n",
       "    <tr>\n",
       "      <th>1</th>\n",
       "      <td>The critical factors of research and innovatio...</td>\n",
       "      <td>International Journal of Trade and Global Markets</td>\n",
       "      <td>Copyright © 2018 Inderscience Enterprises Ltd....</td>\n",
       "      <td>Critical factors,Innovation creation,Public un...</td>\n",
       "      <td>BUSI,ECON</td>\n",
       "      <td>01/01/2018</td>\n",
       "    </tr>\n",
       "    <tr>\n",
       "      <th>2</th>\n",
       "      <td>Is the occiput-wall distance valid and reliabl...</td>\n",
       "      <td>Musculoskeletal Science and Practice</td>\n",
       "      <td>© 2018Background: Hyperkyphosis may be frequen...</td>\n",
       "      <td>Cobb angle,Dowager's hump,Round back,Spine</td>\n",
       "      <td>HEAL</td>\n",
       "      <td>01/12/2018</td>\n",
       "    </tr>\n",
       "    <tr>\n",
       "      <th>3</th>\n",
       "      <td>Comparison of soil composition between farmlan...</td>\n",
       "      <td>Eurasian Journal of Analytical Chemistry</td>\n",
       "      <td>© 2018 Society for Innovative Research. All ri...</td>\n",
       "      <td>Agriculture land management,Conserved area,Soi...</td>\n",
       "      <td>PHAR,CHEM</td>\n",
       "      <td>01/01/2018</td>\n",
       "    </tr>\n",
       "    <tr>\n",
       "      <th>4</th>\n",
       "      <td>The impact of wire caliber on ERCP outcomes: a...</td>\n",
       "      <td>Gastrointestinal Endoscopy</td>\n",
       "      <td>© 2018Background and Aims: Wire-guided biliary...</td>\n",
       "      <td>None</td>\n",
       "      <td>MEDI</td>\n",
       "      <td>01/06/2018</td>\n",
       "    </tr>\n",
       "  </tbody>\n",
       "</table>\n",
       "</div>"
      ],
      "text/plain": [
       "                                               title  \\\n",
       "0  Effects of iron content on the microstructure ...   \n",
       "1  The critical factors of research and innovatio...   \n",
       "2  Is the occiput-wall distance valid and reliabl...   \n",
       "3  Comparison of soil composition between farmlan...   \n",
       "4  The impact of wire caliber on ERCP outcomes: a...   \n",
       "\n",
       "                                     publicationName  \\\n",
       "0                    Materials Chemistry and Physics   \n",
       "1  International Journal of Trade and Global Markets   \n",
       "2               Musculoskeletal Science and Practice   \n",
       "3           Eurasian Journal of Analytical Chemistry   \n",
       "4                         Gastrointestinal Endoscopy   \n",
       "\n",
       "                                            abstract  \\\n",
       "0  © 2018The microstructure and corrosion behavio...   \n",
       "1  Copyright © 2018 Inderscience Enterprises Ltd....   \n",
       "2  © 2018Background: Hyperkyphosis may be frequen...   \n",
       "3  © 2018 Society for Innovative Research. All ri...   \n",
       "4  © 2018Background and Aims: Wire-guided biliary...   \n",
       "\n",
       "                                            keywords subjectArea  \\\n",
       "0  EIS,Microstructure,Pitting corrosion,Polarizat...   MATE,PHYS   \n",
       "1  Critical factors,Innovation creation,Public un...   BUSI,ECON   \n",
       "2         Cobb angle,Dowager's hump,Round back,Spine        HEAL   \n",
       "3  Agriculture land management,Conserved area,Soi...   PHAR,CHEM   \n",
       "4                                               None        MEDI   \n",
       "\n",
       "  publication_date  \n",
       "0       01/10/2018  \n",
       "1       01/01/2018  \n",
       "2       01/12/2018  \n",
       "3       01/01/2018  \n",
       "4       01/06/2018  "
      ]
     },
     "execution_count": 31,
     "metadata": {},
     "output_type": "execute_result"
    }
   ],
   "source": [
    "df.head()"
   ]
  },
  {
   "cell_type": "code",
   "execution_count": null,
   "metadata": {},
   "outputs": [
    {
     "name": "stdout",
     "output_type": "stream",
     "text": [
      "Data saved to data.csv successfully!\n"
     ]
    }
   ],
   "source": [
    "df.to_csv('data.csv', index=False, encoding='utf-8')\n",
    "print(\"Data saved to data.csv successfully!\")"
   ]
  },
  {
   "cell_type": "code",
   "execution_count": 34,
   "metadata": {},
   "outputs": [
    {
     "data": {
      "text/plain": [
       "['EIS',\n",
       " 'Microstructure',\n",
       " 'Pitting corrosion',\n",
       " 'Polarization',\n",
       " 'Titanium alloy']"
      ]
     },
     "execution_count": 34,
     "metadata": {},
     "output_type": "execute_result"
    }
   ],
   "source": [
    "df_new = pd.read_csv('data.csv')\n",
    "df_new.head()\n",
    "df_new['keywords'][0].split(',')\n",
    "#for x in df_new['keywords'][0]"
   ]
  },
  {
   "cell_type": "code",
   "execution_count": 19,
   "metadata": {},
   "outputs": [
    {
     "data": {
      "text/html": [
       "<div>\n",
       "<style scoped>\n",
       "    .dataframe tbody tr th:only-of-type {\n",
       "        vertical-align: middle;\n",
       "    }\n",
       "\n",
       "    .dataframe tbody tr th {\n",
       "        vertical-align: top;\n",
       "    }\n",
       "\n",
       "    .dataframe thead th {\n",
       "        text-align: right;\n",
       "    }\n",
       "</style>\n",
       "<table border=\"1\" class=\"dataframe\">\n",
       "  <thead>\n",
       "    <tr style=\"text-align: right;\">\n",
       "      <th></th>\n",
       "      <th>title</th>\n",
       "      <th>publicationName</th>\n",
       "      <th>abstract</th>\n",
       "      <th>keywords</th>\n",
       "      <th>subjectArea</th>\n",
       "      <th>publication_date</th>\n",
       "    </tr>\n",
       "  </thead>\n",
       "  <tbody>\n",
       "    <tr>\n",
       "      <th>0</th>\n",
       "      <td>Effects of iron content on the microstructure ...</td>\n",
       "      <td>Materials Chemistry and Physics</td>\n",
       "      <td>© 2018The microstructure and corrosion behavio...</td>\n",
       "      <td>[EIS, Microstructure, Pitting corrosion, Polar...</td>\n",
       "      <td>[MATE, PHYS]</td>\n",
       "      <td>01/10/2018</td>\n",
       "    </tr>\n",
       "    <tr>\n",
       "      <th>1</th>\n",
       "      <td>The critical factors of research and innovatio...</td>\n",
       "      <td>International Journal of Trade and Global Markets</td>\n",
       "      <td>Copyright © 2018 Inderscience Enterprises Ltd....</td>\n",
       "      <td>[Critical factors, Innovation creation, Public...</td>\n",
       "      <td>[BUSI, ECON]</td>\n",
       "      <td>01/01/2018</td>\n",
       "    </tr>\n",
       "    <tr>\n",
       "      <th>2</th>\n",
       "      <td>Is the occiput-wall distance valid and reliabl...</td>\n",
       "      <td>Musculoskeletal Science and Practice</td>\n",
       "      <td>© 2018Background: Hyperkyphosis may be frequen...</td>\n",
       "      <td>[Cobb angle, Dowager's hump, Round back, Spine]</td>\n",
       "      <td>[HEAL]</td>\n",
       "      <td>01/12/2018</td>\n",
       "    </tr>\n",
       "    <tr>\n",
       "      <th>3</th>\n",
       "      <td>Comparison of soil composition between farmlan...</td>\n",
       "      <td>Eurasian Journal of Analytical Chemistry</td>\n",
       "      <td>© 2018 Society for Innovative Research. All ri...</td>\n",
       "      <td>[Agriculture land management, Conserved area, ...</td>\n",
       "      <td>[CHEM, PHAR, CHEM, CHEM]</td>\n",
       "      <td>01/01/2018</td>\n",
       "    </tr>\n",
       "    <tr>\n",
       "      <th>4</th>\n",
       "      <td>The impact of wire caliber on ERCP outcomes: a...</td>\n",
       "      <td>Gastrointestinal Endoscopy</td>\n",
       "      <td>© 2018Background and Aims: Wire-guided biliary...</td>\n",
       "      <td>[]</td>\n",
       "      <td>[MEDI, MEDI]</td>\n",
       "      <td>01/06/2018</td>\n",
       "    </tr>\n",
       "  </tbody>\n",
       "</table>\n",
       "</div>"
      ],
      "text/plain": [
       "                                               title  \\\n",
       "0  Effects of iron content on the microstructure ...   \n",
       "1  The critical factors of research and innovatio...   \n",
       "2  Is the occiput-wall distance valid and reliabl...   \n",
       "3  Comparison of soil composition between farmlan...   \n",
       "4  The impact of wire caliber on ERCP outcomes: a...   \n",
       "\n",
       "                                     publicationName  \\\n",
       "0                    Materials Chemistry and Physics   \n",
       "1  International Journal of Trade and Global Markets   \n",
       "2               Musculoskeletal Science and Practice   \n",
       "3           Eurasian Journal of Analytical Chemistry   \n",
       "4                         Gastrointestinal Endoscopy   \n",
       "\n",
       "                                            abstract  \\\n",
       "0  © 2018The microstructure and corrosion behavio...   \n",
       "1  Copyright © 2018 Inderscience Enterprises Ltd....   \n",
       "2  © 2018Background: Hyperkyphosis may be frequen...   \n",
       "3  © 2018 Society for Innovative Research. All ri...   \n",
       "4  © 2018Background and Aims: Wire-guided biliary...   \n",
       "\n",
       "                                            keywords  \\\n",
       "0  [EIS, Microstructure, Pitting corrosion, Polar...   \n",
       "1  [Critical factors, Innovation creation, Public...   \n",
       "2    [Cobb angle, Dowager's hump, Round back, Spine]   \n",
       "3  [Agriculture land management, Conserved area, ...   \n",
       "4                                                 []   \n",
       "\n",
       "                subjectArea publication_date  \n",
       "0              [MATE, PHYS]       01/10/2018  \n",
       "1              [BUSI, ECON]       01/01/2018  \n",
       "2                    [HEAL]       01/12/2018  \n",
       "3  [CHEM, PHAR, CHEM, CHEM]       01/01/2018  \n",
       "4              [MEDI, MEDI]       01/06/2018  "
      ]
     },
     "execution_count": 19,
     "metadata": {},
     "output_type": "execute_result"
    }
   ],
   "source": [
    "df.head()"
   ]
  },
  {
   "cell_type": "code",
   "execution_count": 14,
   "metadata": {},
   "outputs": [
    {
     "data": {
      "text/plain": [
       "0        anxiety,cultural beliefs,fear of committing er...\n",
       "1        anxiety,cultural beliefs,fear of committing er...\n",
       "2        anxiety,cultural beliefs,fear of committing er...\n",
       "3        anxiety,cultural beliefs,fear of committing er...\n",
       "4                                                     None\n",
       "                               ...                        \n",
       "20211                                                 None\n",
       "20212                                                 None\n",
       "20213                                                 None\n",
       "20214                                                 None\n",
       "20215                                                 None\n",
       "Name: keywords, Length: 20216, dtype: object"
      ]
     },
     "execution_count": 14,
     "metadata": {},
     "output_type": "execute_result"
    }
   ],
   "source": [
    "df['keywords']"
   ]
  },
  {
   "cell_type": "code",
   "execution_count": 8,
   "metadata": {},
   "outputs": [],
   "source": [
    "df.dropna(inplace=True)"
   ]
  },
  {
   "cell_type": "markdown",
   "metadata": {},
   "source": [
    "# Subject Area prediction"
   ]
  },
  {
   "cell_type": "code",
   "execution_count": 9,
   "metadata": {},
   "outputs": [],
   "source": [
    "# make list\n",
    "#df['subjectArea'] = df['subjectArea'].apply(lambda x: x.split(','))"
   ]
  },
  {
   "cell_type": "code",
   "execution_count": 10,
   "metadata": {},
   "outputs": [
    {
     "data": {
      "text/html": [
       "<div>\n",
       "<style scoped>\n",
       "    .dataframe tbody tr th:only-of-type {\n",
       "        vertical-align: middle;\n",
       "    }\n",
       "\n",
       "    .dataframe tbody tr th {\n",
       "        vertical-align: top;\n",
       "    }\n",
       "\n",
       "    .dataframe thead th {\n",
       "        text-align: right;\n",
       "    }\n",
       "</style>\n",
       "<table border=\"1\" class=\"dataframe\">\n",
       "  <thead>\n",
       "    <tr style=\"text-align: right;\">\n",
       "      <th></th>\n",
       "      <th>title</th>\n",
       "      <th>publicationName</th>\n",
       "      <th>abstract</th>\n",
       "      <th>keywords</th>\n",
       "      <th>subjectArea</th>\n",
       "      <th>publication_date</th>\n",
       "    </tr>\n",
       "  </thead>\n",
       "  <tbody>\n",
       "    <tr>\n",
       "      <th>0</th>\n",
       "      <td>Effects of iron content on the microstructure ...</td>\n",
       "      <td>Materials Chemistry and Physics</td>\n",
       "      <td>© 2018The microstructure and corrosion behavio...</td>\n",
       "      <td>EIS,Microstructure,Pitting corrosion,Polarizat...</td>\n",
       "      <td>[MATE, PHYS]</td>\n",
       "      <td>01/10/2018</td>\n",
       "    </tr>\n",
       "    <tr>\n",
       "      <th>1</th>\n",
       "      <td>The critical factors of research and innovatio...</td>\n",
       "      <td>International Journal of Trade and Global Markets</td>\n",
       "      <td>Copyright © 2018 Inderscience Enterprises Ltd....</td>\n",
       "      <td>Critical factors,Innovation creation,Public un...</td>\n",
       "      <td>[BUSI, ECON]</td>\n",
       "      <td>01/01/2018</td>\n",
       "    </tr>\n",
       "    <tr>\n",
       "      <th>2</th>\n",
       "      <td>Is the occiput-wall distance valid and reliabl...</td>\n",
       "      <td>Musculoskeletal Science and Practice</td>\n",
       "      <td>© 2018Background: Hyperkyphosis may be frequen...</td>\n",
       "      <td>Cobb angle,Dowager's hump,Round back,Spine</td>\n",
       "      <td>[HEAL]</td>\n",
       "      <td>01/12/2018</td>\n",
       "    </tr>\n",
       "    <tr>\n",
       "      <th>3</th>\n",
       "      <td>Comparison of soil composition between farmlan...</td>\n",
       "      <td>Eurasian Journal of Analytical Chemistry</td>\n",
       "      <td>© 2018 Society for Innovative Research. All ri...</td>\n",
       "      <td>Agriculture land management,Conserved area,Soi...</td>\n",
       "      <td>[CHEM, PHAR, CHEM, CHEM]</td>\n",
       "      <td>01/01/2018</td>\n",
       "    </tr>\n",
       "    <tr>\n",
       "      <th>5</th>\n",
       "      <td>The influence of neighbor effect and urbanizat...</td>\n",
       "      <td>Progress in Transplantation</td>\n",
       "      <td>© 2017, NATCO. All rights reserved.Introductio...</td>\n",
       "      <td>Choice,Consumer wellness,Decision-making,Neigh...</td>\n",
       "      <td>[MEDI]</td>\n",
       "      <td>01/03/2018</td>\n",
       "    </tr>\n",
       "  </tbody>\n",
       "</table>\n",
       "</div>"
      ],
      "text/plain": [
       "                                               title  \\\n",
       "0  Effects of iron content on the microstructure ...   \n",
       "1  The critical factors of research and innovatio...   \n",
       "2  Is the occiput-wall distance valid and reliabl...   \n",
       "3  Comparison of soil composition between farmlan...   \n",
       "5  The influence of neighbor effect and urbanizat...   \n",
       "\n",
       "                                     publicationName  \\\n",
       "0                    Materials Chemistry and Physics   \n",
       "1  International Journal of Trade and Global Markets   \n",
       "2               Musculoskeletal Science and Practice   \n",
       "3           Eurasian Journal of Analytical Chemistry   \n",
       "5                        Progress in Transplantation   \n",
       "\n",
       "                                            abstract  \\\n",
       "0  © 2018The microstructure and corrosion behavio...   \n",
       "1  Copyright © 2018 Inderscience Enterprises Ltd....   \n",
       "2  © 2018Background: Hyperkyphosis may be frequen...   \n",
       "3  © 2018 Society for Innovative Research. All ri...   \n",
       "5  © 2017, NATCO. All rights reserved.Introductio...   \n",
       "\n",
       "                                            keywords  \\\n",
       "0  EIS,Microstructure,Pitting corrosion,Polarizat...   \n",
       "1  Critical factors,Innovation creation,Public un...   \n",
       "2         Cobb angle,Dowager's hump,Round back,Spine   \n",
       "3  Agriculture land management,Conserved area,Soi...   \n",
       "5  Choice,Consumer wellness,Decision-making,Neigh...   \n",
       "\n",
       "                subjectArea publication_date  \n",
       "0              [MATE, PHYS]       01/10/2018  \n",
       "1              [BUSI, ECON]       01/01/2018  \n",
       "2                    [HEAL]       01/12/2018  \n",
       "3  [CHEM, PHAR, CHEM, CHEM]       01/01/2018  \n",
       "5                    [MEDI]       01/03/2018  "
      ]
     },
     "execution_count": 10,
     "metadata": {},
     "output_type": "execute_result"
    }
   ],
   "source": [
    "df.head()"
   ]
  },
  {
   "cell_type": "code",
   "execution_count": 11,
   "metadata": {},
   "outputs": [],
   "source": [
    "import numpy as np\n",
    "import pandas as pd\n",
    "from sklearn.model_selection import train_test_split\n",
    "from sklearn.feature_extraction.text import TfidfVectorizer\n",
    "from sklearn.preprocessing import MultiLabelBinarizer\n",
    "from sklearn.multiclass import OneVsRestClassifier\n",
    "from xgboost import XGBClassifier\n",
    "from sklearn.metrics import classification_report\n",
    "\n",
    "\n",
    "# Text preprocessing and vectorization\n",
    "text_data = df['title'] + ' ' + df['publicationName']  # You can also add 'keywords'\n",
    "vectorizer = TfidfVectorizer(max_features=10000, stop_words='english', ngram_range=(1, 2))\n",
    "X = vectorizer.fit_transform(text_data)\n",
    "\n",
    "# MultiLabelBinarizer to handle multi-label targets\n",
    "mlb = MultiLabelBinarizer()\n",
    "y = mlb.fit_transform(df['subjectArea'])  # Convert subjectArea to multi-hot encoded labels\n",
    "\n",
    "# Split data into training and testing sets\n",
    "X_train, X_test, y_train, y_test = train_test_split(X, y, test_size=0.2, random_state=42)\n",
    "\n",
    "# Train the model\n",
    "model = OneVsRestClassifier(XGBClassifier(eval_metric=\"logloss\"))\n",
    "model.fit(X_train, y_train)\n",
    "\n",
    "# Get prediction probabilities\n",
    "y_pred_prob = model.predict_proba(X_test)\n",
    "\n",
    "# Tune Threshold\n",
    "thresholds = np.arange(0.1, 0.9, 0.1)\n",
    "best_threshold = 0.5\n",
    "best_f1 = 0\n",
    "best_report = None\n",
    "\n",
    "for threshold in thresholds:\n",
    "    # Apply threshold\n",
    "    y_pred_adjusted = (y_pred_prob >= threshold).astype(int)\n",
    "    \n",
    "    # Evaluate with classification report and suppress warnings\n",
    "    report = classification_report(y_test, y_pred_adjusted, target_names=mlb.classes_, zero_division=0, output_dict=True)\n",
    "    f1_score = report[\"samples avg\"][\"f1-score\"]\n",
    "    \n",
    "    if f1_score > best_f1:\n",
    "        best_f1 = f1_score\n",
    "        best_threshold = threshold\n",
    "        best_report = report\n",
    "\n",
    "# Final Evaluation\n",
    "y_pred_best = (y_pred_prob >= best_threshold).astype(int)"
   ]
  },
  {
   "cell_type": "code",
   "execution_count": 13,
   "metadata": {},
   "outputs": [
    {
     "name": "stdout",
     "output_type": "stream",
     "text": [
      "              precision    recall  f1-score   support\n",
      "\n",
      "        AGRI       0.79      0.86      0.82       324\n",
      "        ARTS       0.86      0.76      0.81        82\n",
      "        BIOC       0.71      0.78      0.74       405\n",
      "        BUSI       0.74      0.83      0.78       106\n",
      "        CENG       0.78      0.77      0.78       270\n",
      "        CHEM       0.80      0.87      0.83       360\n",
      "        COMP       0.85      0.91      0.88       334\n",
      "        DECI       0.76      0.74      0.75        69\n",
      "        DENT       0.83      0.81      0.82        77\n",
      "        EART       0.71      0.71      0.71        91\n",
      "        ECON       0.74      0.76      0.75        72\n",
      "        ENER       0.80      0.84      0.82       197\n",
      "        ENGI       0.77      0.87      0.82       545\n",
      "        ENVI       0.75      0.80      0.77       300\n",
      "        HEAL       0.65      0.59      0.62        51\n",
      "        IMMU       0.80      0.86      0.83       199\n",
      "        MATE       0.86      0.84      0.85       362\n",
      "        MATH       0.75      0.78      0.76       144\n",
      "        MEDI       0.76      0.94      0.84       875\n",
      "        MULT       0.92      0.79      0.85        72\n",
      "        NEUR       0.79      0.65      0.71        80\n",
      "        NURS       0.73      0.66      0.69        65\n",
      "        PHAR       0.80      0.77      0.79       189\n",
      "        PHYS       0.81      0.83      0.82       313\n",
      "        PSYC       0.74      0.56      0.64        50\n",
      "        SOCI       0.73      0.73      0.73       256\n",
      "        VETE       0.89      0.89      0.89       113\n",
      "\n",
      "   micro avg       0.78      0.83      0.81      6001\n",
      "   macro avg       0.78      0.79      0.78      6001\n",
      "weighted avg       0.78      0.83      0.80      6001\n",
      " samples avg       0.79      0.86      0.80      6001\n",
      "\n"
     ]
    },
    {
     "name": "stderr",
     "output_type": "stream",
     "text": [
      "/Library/Frameworks/Python.framework/Versions/3.12/lib/python3.12/site-packages/sklearn/metrics/_classification.py:1531: UndefinedMetricWarning: Precision is ill-defined and being set to 0.0 in samples with no predicted labels. Use `zero_division` parameter to control this behavior.\n",
      "  _warn_prf(average, modifier, f\"{metric.capitalize()} is\", len(result))\n"
     ]
    }
   ],
   "source": [
    "print(classification_report(y_test, y_pred_best, target_names=mlb.classes_))"
   ]
  },
  {
   "cell_type": "code",
   "execution_count": 14,
   "metadata": {},
   "outputs": [
    {
     "name": "stdout",
     "output_type": "stream",
     "text": [
      "Best Threshold: 0.2\n",
      "Best F1-Score: 0.7953808038366863\n"
     ]
    }
   ],
   "source": [
    "print(f\"Best Threshold: {best_threshold}\")\n",
    "print(f\"Best F1-Score: {best_f1}\")"
   ]
  },
  {
   "cell_type": "code",
   "execution_count": 15,
   "metadata": {},
   "outputs": [
    {
     "name": "stdout",
     "output_type": "stream",
     "text": [
      "predicted labels\n"
     ]
    },
    {
     "data": {
      "text/plain": [
       "[('ENGI',),\n",
       " ('BUSI', 'COMP', 'DECI', 'ENGI', 'SOCI'),\n",
       " ('CHEM', 'ENGI', 'MATE', 'PHYS'),\n",
       " ('BIOC', 'DENT', 'MEDI'),\n",
       " ('ARTS', 'SOCI'),\n",
       " ('MEDI', 'PHAR'),\n",
       " ('AGRI', 'MEDI'),\n",
       " ('AGRI', 'BIOC', 'MEDI'),\n",
       " ('COMP', 'ENGI', 'MATH'),\n",
       " ('CENG', 'CHEM')]"
      ]
     },
     "execution_count": 15,
     "metadata": {},
     "output_type": "execute_result"
    }
   ],
   "source": [
    "y_pred_labels = mlb.inverse_transform(y_pred_best)\n",
    "print('predicted labels')\n",
    "y_pred_labels[:10]"
   ]
  },
  {
   "cell_type": "code",
   "execution_count": 16,
   "metadata": {},
   "outputs": [
    {
     "name": "stdout",
     "output_type": "stream",
     "text": [
      "test labels\n"
     ]
    },
    {
     "data": {
      "text/plain": [
       "[('ENGI',),\n",
       " ('BUSI', 'COMP', 'DECI', 'ENGI', 'SOCI'),\n",
       " ('MATE',),\n",
       " ('DENT',),\n",
       " ('ARTS', 'SOCI'),\n",
       " ('MEDI', 'PHAR'),\n",
       " ('MEDI',),\n",
       " ('BIOC', 'MEDI'),\n",
       " ('COMP',),\n",
       " ('CHEM',)]"
      ]
     },
     "execution_count": 16,
     "metadata": {},
     "output_type": "execute_result"
    }
   ],
   "source": [
    "y_test_labels = mlb.inverse_transform(y_test)\n",
    "print('test labels')\n",
    "y_test_labels[:10]"
   ]
  }
 ],
 "metadata": {
  "kernelspec": {
   "display_name": "Python 3",
   "language": "python",
   "name": "python3"
  },
  "language_info": {
   "codemirror_mode": {
    "name": "ipython",
    "version": 3
   },
   "file_extension": ".py",
   "mimetype": "text/x-python",
   "name": "python",
   "nbconvert_exporter": "python",
   "pygments_lexer": "ipython3",
   "version": "3.12.5"
  }
 },
 "nbformat": 4,
 "nbformat_minor": 2
}
