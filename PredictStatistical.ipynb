{
 "cells": [
  {
   "cell_type": "code",
   "execution_count": null,
   "metadata": {},
   "outputs": [
    {
     "name": "stderr",
     "output_type": "stream",
     "text": [
      "C:\\Users\\VivoBook\\AppData\\Local\\Temp\\ipykernel_40888\\3424379542.py:29: SettingWithCopyWarning: \n",
      "A value is trying to be set on a copy of a slice from a DataFrame.\n",
      "Try using .loc[row_indexer,col_indexer] = value instead\n",
      "\n",
      "See the caveats in the documentation: https://pandas.pydata.org/pandas-docs/stable/user_guide/indexing.html#returning-a-view-versus-a-copy\n",
      "  latest_trends['is_emerging'] = (latest_trends['normalized_count'] > EMERGING_THRESHOLD).astype(int)\n"
     ]
    }
   ],
   "source": [
    "import pandas as pd\n",
    "\n",
    "# Load data\n",
    "data = pd.read_csv(\"data.csv\")\n",
    "\n",
    "# Extract year from publication date\n",
    "data['year'] = pd.to_datetime(data['publication_date'], format='%d/%m/%Y').dt.year\n",
    "\n",
    "# Split multiple subject areas into lists\n",
    "data['subjectArea'] = data['subjectArea'].apply(lambda x: x.split(';'))\n",
    "\n",
    "# Explode subject areas and keywords into separate rows\n",
    "data = data.explode('subjectArea').explode('keywords')\n",
    "\n",
    "# Group by year and subject area to count keyword occurrences\n",
    "keyword_trends = data.groupby(['year', 'subjectArea', 'keywords']).size().reset_index(name='count')\n",
    "\n",
    "# Normalize keyword counts by total papers per year and subject area\n",
    "total_counts = data.groupby(['year', 'subjectArea']).size().reset_index(name='total_papers')\n",
    "keyword_trends = keyword_trends.merge(total_counts, on=['year', 'subjectArea'])\n",
    "keyword_trends['normalized_count'] = keyword_trends['count'] / keyword_trends['total_papers']\n",
    "\n",
    "# Define a threshold for identifying emerging keywords\n",
    "EMERGING_THRESHOLD = 0.95\n",
    "\n",
    "# Find emerging keywords for the most recent year\n",
    "latest_year = keyword_trends['year'].max()\n",
    "latest_trends = keyword_trends[keyword_trends['year'] == latest_year]\n",
    "latest_trends['is_emerging'] = (latest_trends['normalized_count'] > EMERGING_THRESHOLD).astype(int)\n",
    "\n",
    "# Extract emerging keywords for each subject area\n",
    "emerging_keywords = (\n",
    "    latest_trends[latest_trends['is_emerging'] == 1]\n",
    "    .groupby('subjectArea')['keywords']\n",
    "    .apply(lambda x: '; '.join(sorted(set(x))))\n",
    "    .reset_index()\n",
    ")\n",
    "\n",
    "\n"
   ]
  },
  {
   "cell_type": "code",
   "execution_count": 35,
   "metadata": {},
   "outputs": [
    {
     "name": "stdout",
     "output_type": "stream",
     "text": [
      "            Subject Area                                  Emerging Keywords\n",
      "0         AGRI,BUSI,ECON  Area yield,Crop insurance,Insurance product de...\n",
      "1              AGRI,CHEM  Chaya leaf,Electronic tongue,Metabolomics,Mole...\n",
      "2              AGRI,EART  28S,Braconidae,COI,integrative taxonomy,new ge...\n",
      "3         AGRI,EART,ARTS  Anthropocene,Bang Khun Thian,Charcoal analysis...\n",
      "4         AGRI,EART,ENGI  3D slope,Limit analysis,Pseudo-static analysis...\n",
      "..                   ...                                                ...\n",
      "289       VETE,AGRI,IMMU  anopheline mosquito,genetic structure,identifi...\n",
      "290            VETE,IMMU  EEHV,Epitopes,Glycoprotein B,Peripheral blood ...\n",
      "291  VETE,MEDI,AGRI,IMMU  23S rRNA,Hemoplasma,LAMP,Mycoplasma suis,Pig, ...\n",
      "292  VETE,MEDI,IMMU,BIOC  Anti-SARS-CoV-2 IgG,BNT162b2 vaccine,Child,Inf...\n",
      "293            VETE,PHAR  Crocodylus porosus,estuarine crocodiles,intram...\n",
      "\n",
      "[294 rows x 2 columns]\n"
     ]
    }
   ],
   "source": [
    "\n",
    "# Save or print for statistical usage\n",
    "emerging_keywords.columns = ['Subject Area', 'Emerging Keywords']\n",
    "emerging_keywords.to_csv(\"emerging_keywords_statistical.csv\", index=False)\n",
    "print(emerging_keywords)"
   ]
  }
 ],
 "metadata": {
  "kernelspec": {
   "display_name": "Python 3",
   "language": "python",
   "name": "python3"
  },
  "language_info": {
   "codemirror_mode": {
    "name": "ipython",
    "version": 3
   },
   "file_extension": ".py",
   "mimetype": "text/x-python",
   "name": "python",
   "nbconvert_exporter": "python",
   "pygments_lexer": "ipython3",
   "version": "3.12.4"
  }
 },
 "nbformat": 4,
 "nbformat_minor": 2
}
